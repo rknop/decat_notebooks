{
 "cells": [
  {
   "cell_type": "code",
   "execution_count": 11,
   "id": "8fc854f4-e307-41ba-9de4-486d33bc618e",
   "metadata": {},
   "outputs": [],
   "source": [
    "import psycopg2\n",
    "import psycopg2.extras"
   ]
  },
  {
   "cell_type": "code",
   "execution_count": 12,
   "id": "f486066b-2ebc-4b70-af97-c58eaf3cb727",
   "metadata": {
    "tags": []
   },
   "outputs": [],
   "source": [
    "def mjd( y,m,d,h,minute,s ):\n",
    "    # Trusting Wikipedia....                                                                                            \n",
    "    if ( h < 12 ): d -= 1\n",
    "    jd = ( int( 1461 * ( y + 4800 + int( (m - 14) / 12 ) ) / 4 ) +\n",
    "           + int( (367 * (m - 2 - 12 * int( (m - 14) / 12 ) ) ) / 12 )\n",
    "           - int( (3 * int( (y + 4900 + int( (m - 14) / 12) ) / 100 ) ) / 4 )  + d - 32075 )\n",
    "    jd += ( (h-12) + minute/60. + s/3600. ) / 24.\n",
    "    if (h < 12):\n",
    "        jd += 1.\n",
    "    return jd - 2400000.5\n"
   ]
  },
  {
   "cell_type": "code",
   "execution_count": 13,
   "id": "bfc7cd3b-ad84-460d-9721-698facc30712",
   "metadata": {
    "tags": []
   },
   "outputs": [],
   "source": [
    "db = psycopg2.connect(\"dbname='decat' user='mgraham' password='PutYourPasswordHere' host='decatdb.lbl.gov'\")"
   ]
  },
  {
   "cell_type": "code",
   "execution_count": 15,
   "id": "af6d3e3a-0f8c-4b08-ae57-0a5d0228b6ee",
   "metadata": {
    "tags": []
   },
   "outputs": [
    {
     "name": "stdout",
     "output_type": "stream",
     "text": [
      "    1 c4d_210319_002223_ori.fits.fz  g \n",
      "    2 c4d_210319_002356_ori.fits.fz  g \n",
      "    3 c4d_210319_002525_ori.fits.fz  r \n",
      "    4 c4d_210319_002721_ori.fits.fz  i \n",
      "    5 c4d_210319_003000_ori.fits.fz  g \n",
      "    6 c4d_210319_003128_ori.fits.fz  r \n",
      "    7 c4d_210319_003322_ori.fits.fz  i \n",
      "    8 c4d_210319_003604_ori.fits.fz  g \n",
      "    9 c4d_210319_003732_ori.fits.fz  r \n",
      "   10 c4d_210319_003928_ori.fits.fz  i \n",
      "   11 c4d_210319_004207_ori.fits.fz  g \n",
      "   12 c4d_210319_004336_ori.fits.fz  r \n",
      "   13 c4d_210319_004532_ori.fits.fz  i \n",
      "   14 c4d_210319_004810_ori.fits.fz  g \n",
      "   15 c4d_210319_004940_ori.fits.fz  r \n",
      "   16 c4d_210319_005134_ori.fits.fz  i \n",
      "   17 c4d_210319_022002_ori.fits.fz  g \n",
      "   18 c4d_210319_022133_ori.fits.fz  g \n",
      "   19 c4d_210319_022302_ori.fits.fz  r \n",
      "   20 c4d_210319_022455_ori.fits.fz  i \n",
      "   21 c4d_210319_022735_ori.fits.fz  g \n",
      "   22 c4d_210319_022904_ori.fits.fz  r \n",
      "   23 c4d_210319_023059_ori.fits.fz  i \n",
      "   24 c4d_210319_023337_ori.fits.fz  g \n",
      "   25 c4d_210319_023510_ori.fits.fz  r \n",
      "   26 c4d_210319_023704_ori.fits.fz  i \n",
      "   27 c4d_210319_023945_ori.fits.fz  g \n",
      "   28 c4d_210319_024114_ori.fits.fz  r \n",
      "   29 c4d_210319_024310_ori.fits.fz  i \n",
      "   30 c4d_210319_024549_ori.fits.fz  g \n",
      "   31 c4d_210319_024717_ori.fits.fz  r \n",
      "   32 c4d_210319_024912_ori.fits.fz  i \n"
     ]
    }
   ],
   "source": [
    "cursor = db.cursor( cursor_factory = psycopg2.extras.DictCursor )\n",
    "query = \"SELECT id,filename,filter FROM exposures WHERE mjd>%s AND mjd<%s\"\n",
    "cursor.execute( query, [ mjd(2021,3,19,0,0,0), mjd(2021,3,19,3,0,0)])\n",
    "for row in cursor.fetchall():\n",
    "    print( f'{row[\"id\"]:5d} {row[\"filename\"]:30s} {row[\"filter\"]:2s}' )"
   ]
  }
 ],
 "metadata": {
  "kernelspec": {
   "display_name": "Python 3",
   "language": "python",
   "name": "python3"
  },
  "language_info": {
   "codemirror_mode": {
    "name": "ipython",
    "version": 3
   },
   "file_extension": ".py",
   "mimetype": "text/x-python",
   "name": "python",
   "nbconvert_exporter": "python",
   "pygments_lexer": "ipython3",
   "version": "3.7.4"
  },
  "toc-autonumbering": true
 },
 "nbformat": 4,
 "nbformat_minor": 5
}
