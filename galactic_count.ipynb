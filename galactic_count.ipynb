{
 "cells": [
  {
   "cell_type": "code",
   "execution_count": 1,
   "id": "034e4508-f752-45a4-a225-659c78b4e871",
   "metadata": {},
   "outputs": [],
   "source": [
    "import psycopg2\n",
    "import psycopg2.extras"
   ]
  },
  {
   "cell_type": "markdown",
   "id": "ea5594e2-f476-43d4-b224-0bdf2c07a8b6",
   "metadata": {
    "tags": []
   },
   "source": [
    "The galactic pipeline works as follows.  On designated \"reference\" images— right now I just have one per filter— it finds all sources using Eddie Schlafly's crowdsource algorithm, and saves them to the galsources table in the database.\n",
    "\n",
    "Then, for every other image (call them \"search\" images), it will run through the same reduction procedure.  It finds sources but does _not_ save them, instead just using them for astrometric and (sort of) photometric calibration.  After that, it reads all the sources from the reference image (of the relevant filter) from the database, and uses the \"force fit\" version of crowdsource to force there to be sources at all the same positions on the search image as they were on the ref image.  Because I noticed ~10% variations across the chip in the comparison between source and ref, I do a correction to the source magnitudes so that in bulk they match the ref magnitudes; that correction is a 4th-order chebyshev polynomnial in magnituide difference as a function of x and y across the image.  These corrected magnitudes for all of the sources that had >0 flux on the search image are saved to the database.  What this means is that the zeropoint saved in the database for the image is only an approximation.  We're more interested in relative photometry than absolute photometry, so I've calibrated the search image to the reference image.  The real photometric system is defined by the reference image, but then the zeropoint of the reference image should give you absolute calibration to within 10% or 20%.\n",
    "\n",
    "Finally, the pipeline looks at all of the sources in the search image for magnitude differences from the ref image.  Right now it finds a __lot__.  I do a few things.  First, when saving the catalog of the search image, I enforce an \"uncertainty floor\" of 0.01 magnitudes.  I don't believe that crowdsource can be trusted to better than this, even though it often quotes sub-0.01 magnitude uncertainties.  (It's probably not to better than 2%, in fact.)  There's also issues of how damn difficult it is to adequately subtract the sky in crowded fields.  I stopped using crowdsources' sky subtraction, and instead went with the Bijaoui algorithm (done in a 20x10 tiles to which a smooth background is fit), as I was getting better results with that.  Second, when I do the correction fit, I look at the χ²/ν value, and expand the uncertainties in the search image by a factor that will make the χ²/ν value go to 1.  (So far, typically, this has been a factor of a few.)  Finally, I do a 15σ cut on the magnitude difference, which sounds high, but the number of variables was overwhelming without that.  We can still tweak this pipeline if we don't like this.\n",
    "\n",
    "We still get a lot of variables.  However, many of them will be \"one-offs\"; that is, the result of an image artifact or something like that.  We'll want to focus more on the objects that are detected multiple times as differnt from the ref image.  One flaw in the pipeline right now is that an artifact in the _ref_ image will cause something to be detected multiple times.  I want to think about how to deal with that.  (Possiblities include: using mutiple ref images (all photometrically calibrated to one of them), stacked ref image with outlier rejection.)"
   ]
  },
  {
   "cell_type": "markdown",
   "id": "c14b76b5-f902-42de-ab9d-f2c590a9e4a5",
   "metadata": {},
   "source": [
    "All of the tables for the galactic pipeline start with \"gal\"; the relevant ones are:\n",
    "* galexposures — each full 62-chip exposure downloaded from the NOIRLab data archive\n",
    "* galimages — one record for each chip of each exposure; galexposure_id points to the galexposures table\n",
    "* galsources — this is the __GIANT__ table (as in 10⁷ rows per exposure).  Sources detected on images.  galimage_id points to the galimages table.\n",
    "* galvarobjs — variable objects detectected where the galsources entry for an image was significantly different from the galsources entry for that same object for the relevant reference image.  (The galimages field \"reference\" tells you which image was used as a reference for a given search image\n",
    "\n",
    "I'm hoping that the q3c extension will make searching the ginormous galsources table by ra/dec relatively quick.  This does mean I have to regularly run a very slow \"cluster\" process to make the q3c index effective, which seems to lock up the galsources table while I'm doing it.  We may decide that saving all the sources from every image is too much for the database, but it would be really nice if we could keep that, as it means that when a variable object is detected, all of the photometry that we've succesfully grabbed for that object is already right there in the database."
   ]
  },
  {
   "cell_type": "markdown",
   "id": "6e909232-5955-43c7-956d-85d92c61cbff",
   "metadata": {},
   "source": [
    "Right now, I'm only working in \"development\" mode, which means that a smallish number of images have been loaded into the decat_dev database, and they may get deleted or munged about as I keep working.  However, if you want to look at the sorts of things that are coming up, this is the database to look at.  __TO LOOK AT THE PRODUCTION DATABASE__: replace 'decat_dev' with 'decat' after dbname below."
   ]
  },
  {
   "cell_type": "code",
   "execution_count": 2,
   "id": "08667942-8723-4548-8ccf-18d81a9bf145",
   "metadata": {},
   "outputs": [],
   "source": [
    "db = psycopg2.connect(\"dbname='decat_dev' user='mgraham' password='PutYourPasswordHere' host='decatdb.lbl.gov'\")"
   ]
  },
  {
   "cell_type": "code",
   "execution_count": 37,
   "id": "7741a542-f86e-49f0-aef2-31e252908427",
   "metadata": {},
   "outputs": [],
   "source": [
    "db.rollback()"
   ]
  },
  {
   "cell_type": "code",
   "execution_count": 38,
   "id": "a17e3653-ea44-4120-bef4-9e5bd759552c",
   "metadata": {},
   "outputs": [],
   "source": [
    "cursor = db.cursor( cursor_factory = psycopg2.extras.DictCursor )"
   ]
  },
  {
   "cell_type": "markdown",
   "id": "588bc83c-8455-4d16-882c-b14b3d714f84",
   "metadata": {},
   "source": [
    "Here's a query that will get counts of how many times a given object was detected as variable (i.e. different from the ref).  The \"refsource_id\" will be the same for the same objects.  (This is _within a filter_.  The same star in g and and r will have different refsource ids.  Cross-filter identification will require searches by RA/DEC, and then there will be blending issues if the photometry on the g and r refs didn't deblend the objects the same way!  The galaxy has too many stars.)"
   ]
  },
  {
   "cell_type": "code",
   "execution_count": 3,
   "id": "7109e03b-edcf-488b-b7f1-097572347c68",
   "metadata": {},
   "outputs": [
    {
     "name": "stdout",
     "output_type": "stream",
     "text": [
      "Repeated Detections  Number of Objects\n",
      "           9                     63\n",
      "           8                    401\n",
      "           7                    496\n",
      "           6                   1850\n",
      "           5                   2520\n",
      "           4                   1407\n",
      "           3                   1930\n",
      "           2                   3437\n",
      "           1                  27786\n"
     ]
    }
   ],
   "source": [
    "query = ( \"SELECT num,COUNT(num) as count \"\n",
    "          \"FROM ( SELECT COUNT(v.id) as num \"\n",
    "                 \"FROM galvarobjs v \"\n",
    "                 \"GROUP BY refsource_id ) subq \"\n",
    "          \"GROUP BY num \"\n",
    "          \"ORDER BY num DESC\" )\n",
    "cursor.execute( query )\n",
    "print( \"Repeated Detections  Number of Objects\" )\n",
    "for row in cursor.fetchall():\n",
    "    print( f'    {row[\"num\"]:8d}               {row[\"count\"]:8d}' )"
   ]
  },
  {
   "cell_type": "markdown",
   "id": "0b0ba18c-f742-410b-aff2-a13e1f98d6bb",
   "metadata": {},
   "source": [
    "Let's look at some of the ones that had 9 detections."
   ]
  },
  {
   "cell_type": "code",
   "execution_count": 11,
   "id": "33a61b20-d8e2-4364-a484-02a6c11c827d",
   "metadata": {},
   "outputs": [
    {
     "name": "stdout",
     "output_type": "stream",
     "text": [
      "     #dets      refid   mag\n",
      "         9  284560863 17.89\n",
      "         9  284771217 15.98\n",
      "         9  284780308 16.49\n",
      "         9  284917017 18.78\n",
      "         9  285155891 15.90\n",
      "         9  285183148 16.15\n",
      "         9  285224121 16.18\n",
      "         9  285306251 16.07\n",
      "         9  286513214 17.65\n",
      "         9  286682205 20.37\n"
     ]
    }
   ],
   "source": [
    "query = ( \"SELECT num,refsource_id,mag \"\n",
    "          \"FROM ( SELECT COUNT(v.id) as num,v.refsource_id,r.mag \"\n",
    "                 \"FROM galvarobjs v \"\n",
    "                 \"INNER JOIN galsources r ON v.refsource_id=r.id \" \n",
    "                 \"GROUP BY refsource_id,r.mag ) subq \"\n",
    "          \"WHERE num=9 \"\n",
    "          \"LIMIT 10\" )\n",
    "cursor.execute(query)\n",
    "print( f\"{'#dets':>10s} {'refid':>10s} {'mag':>5s}\" )\n",
    "for row in cursor.fetchall():\n",
    "    print( f'{row[\"num\"]:10d} {row[\"refsource_id\"]:10d} {row[\"mag\"]:5.2f}' )\n"
   ]
  },
  {
   "cell_type": "markdown",
   "id": "66198a23-00eb-48f9-8f13-144c5050043c",
   "metadata": {},
   "source": [
    "Let's pull out the detections of 284560863. As with all queries that hits the galsources table, this can take some time."
   ]
  },
  {
   "cell_type": "code",
   "execution_count": 23,
   "id": "6c7a6b23-f73c-47e2-b1ea-fe1870a42921",
   "metadata": {},
   "outputs": [
    {
     "name": "stdout",
     "output_type": "stream",
     "text": [
      "    59295.39   r         17.04     0.01   None\n",
      "    59295.39   r         17.01     0.01   None\n",
      "    59295.39   r         17.02     0.01   None\n",
      "    59295.40   r         17.00     0.01   None\n",
      "    59295.40   r         17.04     0.01   None\n",
      "    59295.41   r         17.01     0.01   None\n",
      "    59313.38   r         17.09     0.01   False\n",
      "    59322.37   r         18.46     0.02   False\n",
      "    59343.42   r         17.07     0.05   False\n"
     ]
    }
   ],
   "source": [
    "query = ( \"SELECT e.mjd,e.filter,e.is_reference,s.mag,s.magerr \"\n",
    "          \"FROM galvarobjs v \"\n",
    "          \"INNER JOIN galsources s ON v.galsource_id=s.id \"\n",
    "          \"INNER JOIN galimages i ON s.galimage_id=i.id \"\n",
    "          \"INNER JOIN galexposures e ON i.galexposure_id=e.id \"\n",
    "          \"WHERE v.refsource_id=284560863 \"\n",
    "          \"ORDER BY e.mjd\" )\n",
    "cursor.execute( query )\n",
    "for row in cursor.fetchall():\n",
    "    print( f'{row[\"mjd\"]:12.2f}   {row[\"filter\"]:6s}   {row[\"mag\"]:6.2f}   {row[\"magerr\"]:6.2f}   {row[\"is_reference\"]}' )"
   ]
  },
  {
   "cell_type": "markdown",
   "id": "5f8c0880-95e5-4478-9fa6-903dd9299bc0",
   "metadata": {},
   "source": [
    "Let's try to pull out the lightcurve of that source.  Start by getting the RA and DEC from the galsource table entry from the reference image:"
   ]
  },
  {
   "cell_type": "code",
   "execution_count": 29,
   "id": "a10f2cdd-f0c2-4dad-b85a-c65b87eed0ad",
   "metadata": {},
   "outputs": [
    {
     "name": "stdout",
     "output_type": "stream",
     "text": [
      "RA = 271.486119431597    DEC = -28.9101692547778\n"
     ]
    }
   ],
   "source": [
    "query = ( \"SELECT s.ra,s.dec FROM galsources s WHERE s.id=284560863\" )\n",
    "cursor.execute( query )\n",
    "for row in cursor.fetchall():\n",
    "    print( f'RA = {row[\"ra\"]}    DEC = {row[\"dec\"]}' )"
   ]
  },
  {
   "cell_type": "markdown",
   "id": "650fcd58-be7c-47f4-aa7f-76f2f4cacad4",
   "metadata": {},
   "source": [
    "A q3c_radial_query searches for everything within a given radius of a given RA/DEC.  The radius is in degrees. I will search for sources that are 0.3\" away from the RA and DEC of this ref source:"
   ]
  },
  {
   "cell_type": "code",
   "execution_count": 34,
   "id": "fb860ab2-58f4-4186-a27d-200093407567",
   "metadata": {
    "tags": []
   },
   "outputs": [
    {
     "name": "stdout",
     "output_type": "stream",
     "text": [
      "    59295.39   g         17.84     0.01  None\n",
      "    59295.39   g         17.85     0.01  None\n",
      "    59295.40   g         17.85     0.01  None\n",
      "    59295.40   g         17.85     0.01  None\n",
      "    59295.40   g         17.86     0.01  None\n",
      "    59297.40   g         18.87     0.00  True\n",
      "    59331.33   g         17.81     0.03  None\n",
      "    59295.39   i         16.83     0.01  None\n",
      "    59295.39   i         16.81     0.01  None\n",
      "    59295.39   i         16.79     0.01  None\n",
      "    59295.40   i         16.81     0.01  None\n",
      "    59295.40   i         16.80     0.01  None\n",
      "    59295.41   i         16.81     0.01  None\n",
      "    59297.40   i         17.56     0.00  True\n",
      "    59295.39   r         17.04     0.01  None\n",
      "    59295.39   r         17.01     0.01  None\n",
      "    59295.39   r         17.02     0.01  None\n",
      "    59295.40   r         17.00     0.01  None\n",
      "    59295.40   r         17.04     0.01  None\n",
      "    59295.41   r         17.01     0.01  None\n",
      "    59297.40   r         17.89     0.00  True\n",
      "    59313.38   r         17.09     0.01  False\n",
      "    59322.37   r         18.46     0.02  False\n",
      "    59343.42   r         17.07     0.05  False\n",
      "    59295.39   z         16.61     0.01  None\n",
      "    59295.39   z         16.58     0.01  None\n",
      "    59295.39   z         16.62     0.01  None\n",
      "    59295.40   z         16.58     0.01  None\n",
      "    59295.40   z         16.62     0.01  None\n",
      "    59295.41   z         16.58     0.01  None\n",
      "    59297.40   z         17.23     0.00  True\n"
     ]
    }
   ],
   "source": [
    "query = ( \"SELECT e.mjd,e.filter,e.is_reference,s.ra,s.dec,s.mag,s.magerr \"\n",
    "          \"FROM galsources s \"\n",
    "          \"INNER JOIN galimages i ON s.galimage_id=i.id \"\n",
    "          \"INNER JOIN galexposures e ON i.galexposure_id=e.id \"\n",
    "          \"WHERE q3c_radial_query(s.ra,s.dec,271.486119431597,-28.9101692547778,0.3/3600.) \"\n",
    "          \"ORDER BY e.filter,e.mjd\" )\n",
    "cursor.execute( query )\n",
    "for row in cursor.fetchall():\n",
    "    print( f'{row[\"mjd\"]:12.2f}   {row[\"filter\"]:6s}   {row[\"mag\"]:6.2f}   {row[\"magerr\"]:6.2f}  {row[\"is_reference\"]}' )"
   ]
  },
  {
   "cell_type": "markdown",
   "id": "f81d572f-0b7e-4daf-b77f-b36f39ba5914",
   "metadata": {
    "tags": []
   },
   "source": [
    "The last column, \"is reference\", is a tag in the exposures column that this exposure is used as a reference for finding variable objects.  This doesn't guarantee it was the reference for *this* object!  However, at the moment, I only have a single reference for each filter, so it does guarantee that.\n",
    "\n",
    "The thing I notice is that on mdj 5297, in each filter the star is systematically different from most of the other observations... and 5297 is the reference!  Something was going on with that star that day.  I would say it was an image artifact, but for the fact that it's an outlier in all four filters.  HOWEVER, I've only got something like 3 days in the databse, so this could be a real varaible that just didnt' vary much on one day.  This will be more meaningful when there are more separate days in the database.  (That may never happen in the dev server, but when we go production, it will.)\n",
    "\n",
    "(NOTE that if you run this query, you may well get different results, as I've probably added things to the database.)\n",
    "\n",
    "Let's now do the same thing on another source."
   ]
  },
  {
   "cell_type": "code",
   "execution_count": 41,
   "id": "d542b40a-35e4-4c18-9344-272db5f7f4e3",
   "metadata": {},
   "outputs": [
    {
     "name": "stdout",
     "output_type": "stream",
     "text": [
      "    59295.39   g         19.05     0.02  None\n",
      "    59295.39   g         19.01     0.02  None\n",
      "    59295.40   g         18.96     0.02  None\n",
      "    59295.40   g         18.94     0.02  None\n",
      "    59295.40   g         18.91     0.02  None\n",
      "    59297.40   g         19.84     0.01  True\n",
      "    59331.33   g         18.54     0.02  None\n",
      "    59295.39   i         17.94     0.01  None\n",
      "    59295.39   i         17.91     0.02  None\n",
      "    59295.39   i         17.88     0.02  None\n",
      "    59295.40   i         17.84     0.02  None\n",
      "    59295.40   i         17.84     0.02  None\n",
      "    59295.41   i         17.80     0.02  None\n",
      "    59297.40   i         18.48     0.01  True\n",
      "    59295.39   r         18.18     0.01  None\n",
      "    59295.39   r         18.18     0.02  None\n",
      "    59295.39   r         18.11     0.01  None\n",
      "    59295.40   r         18.06     0.02  None\n",
      "    59295.40   r         18.03     0.02  None\n",
      "    59295.41   r         18.01     0.02  None\n",
      "    59297.40   r         18.78     0.01  True\n",
      "    59313.38   r         17.71     0.01  False\n",
      "    59322.37   r         17.70     0.02  False\n",
      "    59343.42   r         17.68     0.06  False\n",
      "    59295.39   z         17.65     0.02  None\n",
      "    59295.39   z         17.61     0.02  None\n",
      "    59295.39   z         17.59     0.02  None\n",
      "    59295.40   z         17.57     0.02  None\n",
      "    59295.40   z         17.53     0.02  None\n",
      "    59295.41   z         17.56     0.02  None\n",
      "    59297.40   z         18.12     0.01  True\n"
     ]
    }
   ],
   "source": [
    "query = ( \"SELECT s.ra,s.dec FROM galsources s WHERE s.id=284917017\" )\n",
    "cursor.execute( query )\n",
    "row = cursor.fetchone()\n",
    "ra = row['ra']\n",
    "dec = row['dec']\n",
    "query = ( \"SELECT e.mjd,e.filter,e.is_reference,s.ra,s.dec,s.mag,s.magerr \"\n",
    "          \"FROM galsources s \"\n",
    "          \"INNER JOIN galimages i ON s.galimage_id=i.id \"\n",
    "          \"INNER JOIN galexposures e ON i.galexposure_id=e.id \"\n",
    "          \"WHERE q3c_radial_query(s.ra,s.dec,%s,%s,0.5/3600.) \"\n",
    "          \"ORDER BY e.filter,e.mjd\" )\n",
    "cursor.execute( query, ( ra, dec ) )\n",
    "for row in cursor.fetchall():\n",
    "    print( f'{row[\"mjd\"]:12.2f}   {row[\"filter\"]:6s}   {row[\"mag\"]:6.2f}   {row[\"magerr\"]:6.2f}  {row[\"is_reference\"]}' )"
   ]
  },
  {
   "cell_type": "code",
   "execution_count": null,
   "id": "1625ee9f-4f0f-4201-9bed-104aa24a41f3",
   "metadata": {},
   "outputs": [],
   "source": []
  }
 ],
 "metadata": {
  "kernelspec": {
   "display_name": "Python 3",
   "language": "python",
   "name": "python3"
  },
  "language_info": {
   "codemirror_mode": {
    "name": "ipython",
    "version": 3
   },
   "file_extension": ".py",
   "mimetype": "text/x-python",
   "name": "python",
   "nbconvert_exporter": "python",
   "pygments_lexer": "ipython3",
   "version": "3.7.4"
  }
 },
 "nbformat": 4,
 "nbformat_minor": 5
}
