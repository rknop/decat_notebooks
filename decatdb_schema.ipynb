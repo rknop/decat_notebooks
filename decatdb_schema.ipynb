{
 "cells": [
  {
   "cell_type": "code",
   "execution_count": 1,
   "id": "ebe464e9-6c9e-4821-a691-50c1380ece83",
   "metadata": {
    "tags": []
   },
   "outputs": [],
   "source": [
    "import psycopg2\n",
    "import psycopg2.extras\n",
    "import getpass"
   ]
  },
  {
   "cell_type": "code",
   "execution_count": 2,
   "id": "6a686ed7-6494-43f3-a9db-b4c0f122eb1d",
   "metadata": {},
   "outputs": [],
   "source": [
    "# The tables for the extragalactic pipeline are:\n",
    "#   exposures -- a single exposure logged in the NOIRLab data archives\n",
    "#   images -- a single chip image, links back to exposures\n",
    "#   subtractions -- a single subtraction, links back to exposures\n",
    "#   objects -- everything detected on all subtractions, links back to subtractions and candidates.\n",
    "#              This is what the alerts call a \"source\".\n",
    "#   candidates -- objects that have been found one or more times.  An object found within 2\" of\n",
    "#                 an existing candidate is tagged as the same candidate.  This is what alerts\n",
    "#                 call an \"object\".  Historical nomenclature is sad.\n",
    "#   cutouts -- 51×51 FITS and JPEG images around objects.  Links back to objects"
   ]
  },
  {
   "cell_type": "code",
   "execution_count": 3,
   "id": "c3116feb-9e37-4738-92eb-7c1e8d1a5235",
   "metadata": {
    "tags": []
   },
   "outputs": [
    {
     "name": "stdin",
     "output_type": "stream",
     "text": [
      "DB User:  decat\n",
      "DB Password:  ············\n"
     ]
    }
   ],
   "source": [
    "dbuser = input(\"DB User: \")\n",
    "dbpasswd = getpass.getpass(\"DB Password: \")"
   ]
  },
  {
   "cell_type": "code",
   "execution_count": 4,
   "id": "7e76acf8-e10c-43af-92af-dbe65b4e3c26",
   "metadata": {},
   "outputs": [],
   "source": [
    "db = psycopg2.connect(f\"dbname='decat' user='{dbuser}' password='{dbpasswd}' host='decatdb.lbl.gov'\")\n",
    "cursor = db.cursor( cursor_factory = psycopg2.extras.DictCursor )"
   ]
  },
  {
   "cell_type": "code",
   "execution_count": 6,
   "id": "0e60696e-fa0d-4189-b807-f9c51c64c1c7",
   "metadata": {},
   "outputs": [
    {
     "name": "stdout",
     "output_type": "stream",
     "text": [
      "\n",
      "TABLE: exposures\n",
      "===========================\n",
      "id                        :  integer\n",
      "created_at                :  timestamp without time zone\n",
      "modified                  :  timestamp without time zone\n",
      "ra                        :  double precision\n",
      "dec                       :  double precision\n",
      "gallat                    :  double precision\n",
      "gallong                   :  double precision\n",
      "header                    :  jsonb\n",
      "filename                  :  text\n",
      "mjd                       :  double precision\n",
      "event_name                :  text\n",
      "filter                    :  text\n",
      "proposalid                :  text\n",
      "graceid                   :  text\n",
      "\n",
      "TABLE: subtractions\n",
      "===========================\n",
      "id                        :  integer\n",
      "created_at                :  timestamp without time zone\n",
      "modified                  :  timestamp without time zone\n",
      "ra                        :  double precision\n",
      "dec                       :  double precision\n",
      "header                    :  jsonb\n",
      "ra1                       :  double precision\n",
      "dec1                      :  double precision\n",
      "ra2                       :  double precision\n",
      "dec2                      :  double precision\n",
      "ra3                       :  double precision\n",
      "dec3                      :  double precision\n",
      "ra4                       :  double precision\n",
      "dec4                      :  double precision\n",
      "lmt_mg                    :  double precision\n",
      "seeing                    :  double precision\n",
      "skysig                    :  double precision\n",
      "magzp                     :  double precision\n",
      "ccdnum                    :  integer\n",
      "basename                  :  text\n",
      "image_id                  :  integer\n",
      "template_header           :  jsonb\n",
      "exposure_id               :  integer\n",
      "\n",
      "TABLE: candidates\n",
      "===========================\n",
      "created_at                :  timestamp without time zone\n",
      "modified                  :  timestamp without time zone\n",
      "ra                        :  double precision\n",
      "dec                       :  double precision\n",
      "id                        :  text\n",
      "nmatches                  :  integer\n",
      "sg_gaia                   :  integer\n",
      "oldname                   :  text\n",
      "clura                     :  double precision\n",
      "cludec                    :  double precision\n",
      "cludistmpc                :  double precision\n",
      "cluname                   :  text\n",
      "clumstar                  :  double precision\n",
      "clusfr_fuv                :  double precision\n",
      "clusfr_ha                 :  double precision\n",
      "cluid                     :  integer\n",
      "cluseparcsec              :  double precision\n",
      "clusepkpc                 :  double precision\n",
      "parallax                  :  double precision\n",
      "z_phot_med                :  double precision\n",
      "z_phot_avg                :  double precision\n",
      "z_phot_l68                :  double precision\n",
      "z_phot_u68                :  double precision\n",
      "z_phot_l95                :  double precision\n",
      "z_phot_u95                :  double precision\n",
      "dr9_id                    :  integer\n",
      "dr9_type                  :  text\n",
      "dr9_dist                  :  double precision\n",
      "\n",
      "TABLE: objects\n",
      "===========================\n",
      "id                        :  integer\n",
      "created_at                :  timestamp without time zone\n",
      "modified                  :  timestamp without time zone\n",
      "ra                        :  double precision\n",
      "dec                       :  double precision\n",
      "candidate_id              :  text\n",
      "subtraction_id            :  integer\n",
      "rb                        :  double precision\n",
      "name                      :  text\n",
      "mag                       :  double precision\n",
      "magerr                    :  double precision\n",
      "flux                      :  double precision\n",
      "fluxerr                   :  double precision\n",
      "ignore                    :  boolean\n",
      "\n",
      "TABLE: cutouts\n",
      "===========================\n",
      "id                        :  integer\n",
      "created_at                :  timestamp without time zone\n",
      "modified                  :  timestamp without time zone\n",
      "object_id                 :  integer\n",
      "name                      :  text\n",
      "sci_image                 :  bytea\n",
      "ref_image                 :  bytea\n",
      "diff_image                :  bytea\n",
      "sci_jpeg                  :  bytea\n",
      "ref_jpeg                  :  bytea\n",
      "diff_jpeg                 :  bytea\n"
     ]
    }
   ],
   "source": [
    "tables = ['exposures','subtractions','candidates','objects','cutouts']\n",
    "for table in tables:\n",
    "    query = \"SELECT column_name, data_type FROM information_schema.columns WHERE table_name=%s\"\n",
    "    cursor.execute( query, ( table, ))\n",
    "    print( f\"\\nTABLE: {table}\\n===========================\" )\n",
    "    for row in cursor:\n",
    "        print( f\"{row['column_name']:24s}  :  {row['data_type']:s}\" )"
   ]
  },
  {
   "cell_type": "code",
   "execution_count": null,
   "id": "9bbffe0c-9bdf-47db-a06a-2698d0fd8bbb",
   "metadata": {},
   "outputs": [],
   "source": []
  }
 ],
 "metadata": {
  "kernelspec": {
   "display_name": "Python 3",
   "language": "python",
   "name": "python3"
  },
  "language_info": {
   "codemirror_mode": {
    "name": "ipython",
    "version": 3
   },
   "file_extension": ".py",
   "mimetype": "text/x-python",
   "name": "python",
   "nbconvert_exporter": "python",
   "pygments_lexer": "ipython3",
   "version": "3.7.4"
  }
 },
 "nbformat": 4,
 "nbformat_minor": 5
}
