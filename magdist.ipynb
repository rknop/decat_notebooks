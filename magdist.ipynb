{
 "cells": [
  {
   "cell_type": "code",
   "execution_count": 23,
   "id": "6b9540b2-4b0d-42b3-9abd-bbfe316ea5c9",
   "metadata": {},
   "outputs": [],
   "source": [
    "%matplotlib inline\n",
    "import psycopg2\n",
    "import psycopg2.extras\n",
    "import numpy\n",
    "from matplotlib import pyplot"
   ]
  },
  {
   "cell_type": "code",
   "execution_count": 2,
   "id": "07f9dea4-2937-48b6-b57a-eb4681a4762f",
   "metadata": {},
   "outputs": [],
   "source": [
    "db = psycopg2.connect(\"dbname='decat_dev' user='decat' password='<password here>' host='decatdb.lbl.gov'\",\n",
    "                       cursor_factory=psycopg2.extras.DictCursor)"
   ]
  },
  {
   "cell_type": "raw",
   "id": "2758c3ff-0fc2-4b9e-ae9d-24c37e2b0fc8",
   "metadata": {},
   "source": [
    "cursor = db.cursor()\n",
    "q = ( \"SELECT s.mag,s.magerr FROM galsources s INNER JOIN galimages i ON i.id=s.galimage_id \"\n",
    "      \"INNER JOIN galexposures e ON e.id=i.galexposure_id WHERE e.filename='c4d_210324_093844_ori.fits.fz'\" )\n",
    "cursor.execute(q)\n",
    "rows = cursor.fetchall()\n",
    "print( f\"Got {len(rows)} stars.\" )"
   ]
  },
  {
   "cell_type": "code",
   "execution_count": 16,
   "id": "02aa18e8-23bc-4f64-b2bf-12b63651d739",
   "metadata": {},
   "outputs": [],
   "source": [
    "mags = numpy.array( [ row['mag'] for row in rows ] )"
   ]
  },
  {
   "cell_type": "code",
   "execution_count": 35,
   "id": "0a8dc0fb-9bac-47b8-aa53-14f4addaf95b",
   "metadata": {},
   "outputs": [],
   "source": [
    "bins = numpy.arange(10,30,1)\n",
    "hist,junk = numpy.histogram( mags, bins=bins )"
   ]
  },
  {
   "cell_type": "code",
   "execution_count": 36,
   "id": "69928b94-eba4-48c7-bda7-0f6da99701fa",
   "metadata": {},
   "outputs": [],
   "source": [
    "histmag = ( bins[1:] + bins[:-1] ) / 2.\n"
   ]
  },
  {
   "cell_type": "code",
   "execution_count": 37,
   "id": "18fb650d-95cc-4831-87da-59de2b6edc07",
   "metadata": {},
   "outputs": [
    {
     "name": "stdout",
     "output_type": "stream",
     "text": [
      "(19,)  (19,)\n"
     ]
    }
   ],
   "source": [
    "print( f\"{hist.shape}  {histmag.shape}\" )"
   ]
  },
  {
   "cell_type": "code",
   "execution_count": 41,
   "id": "40280f11-223f-4b52-9efc-ba879df03b85",
   "metadata": {},
   "outputs": [
    {
     "data": {
      "image/png": "[encoded data removed]",
      "text/plain": [
       "<Figure size 432x288 with 1 Axes>"
      ]
     },
     "metadata": {
      "needs_background": "light"
     },
     "output_type": "display_data"
    }
   ],
   "source": [
    "fig, ax = pyplot.subplots()\n",
    "ax.bar( histmag, hist, width=1, log=True )\n",
    "ax.set_xlabel( \"r Magnitude\" )\n",
    "ax.set_xticks( numpy.arange(10,28,1) )\n",
    "ax.set_ylabel( \"N\" )\n",
    "fig.show()"
   ]
  },
  {
   "cell_type": "code",
   "execution_count": null,
   "id": "0582c607-2138-4a6e-913f-e6fd493a6373",
   "metadata": {},
   "outputs": [],
   "source": []
  }
 ],
 "metadata": {
  "kernelspec": {
   "display_name": "Python 3",
   "language": "python",
   "name": "python3"
  },
  "language_info": {
   "codemirror_mode": {
    "name": "ipython",
    "version": 3
   },
   "file_extension": ".py",
   "mimetype": "text/x-python",
   "name": "python",
   "nbconvert_exporter": "python",
   "pygments_lexer": "ipython3",
   "version": "3.7.4"
  }
 },
 "nbformat": 4,
 "nbformat_minor": 5
}
