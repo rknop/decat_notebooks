{
 "cells": [
  {
   "cell_type": "code",
   "execution_count": 1,
   "id": "6b9540b2-4b0d-42b3-9abd-bbfe316ea5c9",
   "metadata": {},
   "outputs": [],
   "source": [
    "%matplotlib inline\n",
    "import psycopg2\n",
    "import psycopg2.extras\n",
    "import numpy\n",
    "from matplotlib import pyplot"
   ]
  },
  {
   "cell_type": "code",
   "execution_count": 2,
   "id": "07f9dea4-2937-48b6-b57a-eb4681a4762f",
   "metadata": {},
   "outputs": [],
   "source": [
    "db = psycopg2.connect(\"dbname='decat_dev' user='decat' password='<password here>' host='decatdb.lbl.gov'\",\n",
    "                       cursor_factory=psycopg2.extras.DictCursor)"
   ]
  },
  {
   "cell_type": "code",
   "execution_count": 3,
   "id": "38258463-9787-4681-b6c3-7d1dd91940f2",
   "metadata": {},
   "outputs": [
    {
     "name": "stdout",
     "output_type": "stream",
     "text": [
      "Got 12397903 stars.\n"
     ]
    }
   ],
   "source": [
    "# th\"dbname='decat_dev' user='decat' password='<password here>' host='decatdb.lbl.gov'\",\n",
    "                       cursor_factory=psycopg2.extras.DictCursor)is one takes a while (10s of seconds)\n",
    "cursor = db.cursor()\n",
    "q = ( \"SELECT s.mag,s.magerr FROM galsources s INNER JOIN galimages i ON i.id=s.galimage_id \"\n",
    "      \"INNER JOIN galexposures e ON e.id=i.galexposure_id WHERE e.filename='c4d_210324_093844_ori.fits.fz'\" )\n",
    "cursor.execute(q)\n",
    "rows = cursor.fetchall()\n",
    "print( f\"Got {len(rows)} stars.\" )"
   ]
  },
  {
   "cell_type": "code",
   "execution_count": 6,
   "id": "46903705-d3d5-4a27-ba41-3d43b18dc259",
   "metadata": {},
   "outputs": [],
   "source": [
    "mags = numpy.array( [ row['mag'] for row in rows ] )"
   ]
  },
  {
   "cell_type": "code",
   "execution_count": 7,
   "id": "0a8dc0fb-9bac-47b8-aa53-14f4addaf95b",
   "metadata": {},
   "outputs": [],
   "source": [
    "bins = numpy.arange(10,30,1)\n",
    "hist,junk = numpy.histogram( mags, bins=bins )"
   ]
  },
  {
   "cell_type": "code",
   "execution_count": 8,
   "id": "69928b94-eba4-48c7-bda7-0f6da99701fa",
   "metadata": {},
   "outputs": [],
   "source": [
    "histmag = ( bins[1:] + bins[:-1] ) / 2.\n"
   ]
  },
  {
   "cell_type": "code",
   "execution_count": 9,
   "id": "18fb650d-95cc-4831-87da-59de2b6edc07",
   "metadata": {},
   "outputs": [
    {
     "name": "stdout",
     "output_type": "stream",
     "text": [
      "(19,)  (19,)\n"
     ]
    }
   ],
   "source": [
    "print( f\"{hist.shape}  {histmag.shape}\" )"
   ]
  },
  {
   "cell_type": "code",
   "execution_count": 24,
   "id": "40280f11-223f-4b52-9efc-ba879df03b85",
   "metadata": {},
   "outputs": [
    {
     "data": {
      "image/png": "[encoded data removed]",
      "text/plain": [
       "<Figure size 720x360 with 1 Axes>"
      ]
     },
     "metadata": {
      "needs_background": "light"
     },
     "output_type": "display_data"
    }
   ],
   "source": [
    "fig = pyplot.figure( figsize=(10, 5) )\n",
    "ax = fig.add_axes( (0,0,1,1) )\n",
    "ax.bar( histmag, hist, width=1, log=True )\n",
    "ax.set_xlabel( \"r Magnitude\", fontsize=16 )\n",
    "ax.set_xticks( numpy.arange(10,28,1) )\n",
    "ax.set_ylabel( \"N\", fontsize=16 )\n",
    "ax.tick_params(axis='both', labelsize=14)\n",
    "fig.show()"
   ]
  },
  {
   "cell_type": "code",
   "execution_count": null,
   "id": "3568372c-ad98-4fd9-96c3-19a1c006384e",
   "metadata": {},
   "outputs": [],
   "source": []
  }
 ],
 "metadata": {
  "kernelspec": {
   "display_name": "Python 3",
   "language": "python",
   "name": "python3"
  },
  "language_info": {
   "codemirror_mode": {
    "name": "ipython",
    "version": 3
   },
   "file_extension": ".py",
   "mimetype": "text/x-python",
   "name": "python",
   "nbconvert_exporter": "python",
   "pygments_lexer": "ipython3",
   "version": "3.7.4"
  }
 },
 "nbformat": 4,
 "nbformat_minor": 5
}
