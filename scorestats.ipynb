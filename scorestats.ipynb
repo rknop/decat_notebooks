{
 "cells": [
  {
   "cell_type": "code",
   "execution_count": 1,
   "id": "db399df4-8538-4131-9934-3b4a57f42c55",
   "metadata": {},
   "outputs": [],
   "source": [
    "%matplotlib inline\n",
    "import sys\n",
    "import psycopg2\n",
    "import psycopg2.extras\n",
    "import numpy\n",
    "import pandas\n",
    "from matplotlib import pyplot"
   ]
  },
  {
   "cell_type": "code",
   "execution_count": 2,
   "id": "f51dd563-1dd6-4620-9c03-f22c232a7e30",
   "metadata": {},
   "outputs": [],
   "source": [
    "# Read scanscore into memory for further processing\n",
    "with open(\"/global/homes/r/raknop/secrets/decatdb_decat_decat\") as ifp:\n",
    "    (user, passwd) = ifp.readline().strip().split()\n",
    "db = psycopg2.connect(f\"dbname='decat' user='{user}' password='{passwd}' host='decatdb.lbl.gov'\",\n",
    "                      cursor_factory=psycopg2.extras.RealDictCursor)\n",
    "q = ( 'SELECT s.id,s.object_id,s.username,s.goodbad,o.rb '\n",
    "      'FROM scanscore s '\n",
    "      'INNER JOIN objects o ON s.object_id=o.id '\n",
    "      'ORDER BY s.object_id' )\n",
    "cursor = db.cursor()\n",
    "cursor.execute(q)\n",
    "scanscore = pandas.DataFrame( cursor.fetchall() )\n",
    "cursor.close()\n",
    "db.close()"
   ]
  },
  {
   "cell_type": "code",
   "execution_count": 3,
   "id": "52ef3f91-4c5b-4417-926f-e56f9d663d64",
   "metadata": {},
   "outputs": [
    {
     "name": "stdout",
     "output_type": "stream",
     "text": [
      "            num  good_frac\n",
      "username                  \n",
      "rknop     25540   0.188802\n",
      "ruby      25400   0.101181\n",
      "autumn    24760   0.166559\n",
      "alexis    16110   0.099131\n",
      "caitlin    3495   0.152217\n",
      "penugent   2145   0.111422\n",
      "tkennedy    608   0.238487\n"
     ]
    }
   ],
   "source": [
    "# Show how many objects each user has vetted\n",
    "tots = scanscore.groupby(['username','goodbad'])['object_id'].count()\n",
    "tots = tots.groupby(['username']).agg( num='sum',\n",
    "                                       good_frac=lambda row: row[row.index[1][1]==\"good\"] / row.sum() )\n",
    "tots = tots.sort_values( 'num', ascending=False )\n",
    "print(tots)\n"
   ]
  },
  {
   "cell_type": "code",
   "execution_count": 4,
   "id": "11bea649-62d2-4bf7-a0e0-c8b49e38415c",
   "metadata": {},
   "outputs": [
    {
     "name": "stdout",
     "output_type": "stream",
     "text": [
      "   #vets  count\n",
      "0      1  13571\n",
      "1      2  16645\n",
      "2      3  11646\n",
      "3      4   3532\n",
      "4      5    401\n",
      "5      6     21\n"
     ]
    }
   ],
   "source": [
    "# Show stats on how many times a given object has been vetted\n",
    "print( scanscore.groupby(['object_id'])['username'].count().reset_index(name='#vets')\n",
    "       .groupby(['#vets'])['object_id'].count().reset_index(name=\"count\") )"
   ]
  },
  {
   "cell_type": "code",
   "execution_count": 5,
   "id": "70682a91-5316-48aa-9e92-02cce727b6d8",
   "metadata": {},
   "outputs": [
    {
     "name": "stdout",
     "output_type": "stream",
     "text": [
      "   goodbad  num  count\n",
      "0      bad    1  14935\n",
      "1      bad    2  14980\n",
      "2      bad    3   9092\n",
      "3      bad    4   2610\n",
      "4      bad    5    268\n",
      "5      bad    6     13\n",
      "6     good    1   5751\n",
      "7     good    2   2559\n",
      "8     good    3    812\n",
      "9     good    4    161\n",
      "10    good    5     16\n"
     ]
    }
   ],
   "source": [
    "# Show counts of num goods and num bads.  Not terribly meaningful by itself, we\n",
    "#   really need to do cross counts\n",
    "print( scanscore.groupby( ['object_id', 'goodbad'] )['object_id'].count().reset_index(name='num')\n",
    "       .groupby( ['goodbad', 'num'] )['num'].count().reset_index(name='count') )"
   ]
  },
  {
   "cell_type": "code",
   "execution_count": 6,
   "id": "8261ec99-25a1-4379-b9a1-ced0bfde3be1",
   "metadata": {},
   "outputs": [],
   "source": [
    "# Create a table where each row is one object, that has username and goodbad as lists\n",
    "# This takes a few seconds\n",
    "objtable = ( scanscore.groupby( ['object_id', 'rb'] )[\"username\", \"goodbad\"]\n",
    "               .agg( tuple ) )\n",
    "objtable[\"ngood\"] = objtable[\"goodbad\"].apply( lambda x: ( numpy.array( x ) == \"good\" ).sum() )\n",
    "objtable[\"nbad\"] = objtable[\"goodbad\"].apply( lambda x: ( numpy.array( x ) == \"bad\" ).sum() )\n",
    "objtable.reset_index(inplace=True)"
   ]
  },
  {
   "cell_type": "code",
   "execution_count": 7,
   "id": "8a512180-525d-4b2e-9a66-e805bb67c962",
   "metadata": {},
   "outputs": [
    {
     "name": "stdout",
     "output_type": "stream",
     "text": [
      "       object_id        rb               username          goodbad  ngood  \\\n",
      "0             63  0.000034          (rknop, ruby)       (bad, bad)      0   \n",
      "1            101  0.000059                (ruby,)           (bad,)      0   \n",
      "2            162  0.000077  (rknop, ruby, alexis)  (bad, bad, bad)      0   \n",
      "3            258  0.007573  (rknop, ruby, alexis)  (bad, bad, bad)      0   \n",
      "4            327  0.001489                (ruby,)           (bad,)      0   \n",
      "...          ...       ...                    ...              ...    ...   \n",
      "45811   11233910  0.005098                (ruby,)           (bad,)      0   \n",
      "45812   11235735  0.000453               (rknop,)           (bad,)      0   \n",
      "45813   11236973  0.037404               (rknop,)           (bad,)      0   \n",
      "45814   11241315  0.080948               (rknop,)          (good,)      1   \n",
      "45815   11246471  0.000144          (rknop, ruby)       (bad, bad)      0   \n",
      "\n",
      "       nbad  \n",
      "0         2  \n",
      "1         1  \n",
      "2         3  \n",
      "3         3  \n",
      "4         1  \n",
      "...     ...  \n",
      "45811     1  \n",
      "45812     1  \n",
      "45813     1  \n",
      "45814     0  \n",
      "45815     2  \n",
      "\n",
      "[45816 rows x 6 columns]\n"
     ]
    }
   ],
   "source": [
    "print(objtable)"
   ]
  },
  {
   "cell_type": "code",
   "execution_count": 8,
   "id": "5378e515-33b2-4be8-9e9f-947120dcd9f4",
   "metadata": {},
   "outputs": [
    {
     "name": "stdout",
     "output_type": "stream",
     "text": [
      "Index(['object_id', 'rb', 'username', 'goodbad', 'ngood', 'nbad'], dtype='object')\n"
     ]
    }
   ],
   "source": [
    "print( objtable.columns )"
   ]
  },
  {
   "cell_type": "code",
   "execution_count": 9,
   "id": "4f1e4783-e2d4-479b-b0e9-01467f1d7782",
   "metadata": {},
   "outputs": [
    {
     "name": "stdout",
     "output_type": "stream",
     "text": [
      "  nbad |     0 |     1 |     2 |     3 |     4 |     5 |     6 |\n",
      "ngood  |       |       |       |       |       |       |       |\n",
      "-------|-------|-------|-------|-------|-------|-------|-------|\n",
      "     0 |     0 | 11744 | 13244 |  8687 |  2562 |   267 |    13 |\n",
      "-------|-------|-------|-------|-------|-------|-------|-------|\n",
      "     1 |  1827 |  2051 |  1446 |   379 |    47 |     1 |     0 |\n",
      "-------|-------|-------|-------|-------|-------|-------|-------|\n",
      "     2 |  1350 |   919 |   265 |    24 |     1 |     0 |     0 |\n",
      "-------|-------|-------|-------|-------|-------|-------|-------|\n",
      "     3 |   594 |   193 |    23 |     2 |     0 |     0 |     0 |\n",
      "-------|-------|-------|-------|-------|-------|-------|-------|\n",
      "     4 |   133 |    26 |     2 |     0 |     0 |     0 |     0 |\n",
      "-------|-------|-------|-------|-------|-------|-------|-------|\n",
      "     5 |    14 |     2 |     0 |     0 |     0 |     0 |     0 |\n",
      "-------|-------|-------|-------|-------|-------|-------|-------|\n"
     ]
    }
   ],
   "source": [
    "# Show consistency stats\n",
    "maxgood = objtable['ngood'].max()\n",
    "maxbad = objtable['nbad'].max()\n",
    "print( f'{\"nbad\":>6s} |', end='' )\n",
    "for j in range(maxbad+1):\n",
    "    print( f' {j:5d} |', end='' )\n",
    "print('\\nngood  |', end='')\n",
    "for j in range(maxbad+1):\n",
    "    print( '       |', end='')\n",
    "print('\\n-------|', end='')\n",
    "for j in range(maxbad+1):\n",
    "    print( '-------|', end='')\n",
    "print('')\n",
    "for i in range(maxgood+1):\n",
    "    print( f' {i:5d} |', end='' )\n",
    "    for j in range(maxbad+1):\n",
    "        n = ( ( objtable['ngood'] == i ) & ( objtable['nbad'] == j ) ).sum()\n",
    "        print( f' {n:5} |', end='' )\n",
    "    print('\\n-------|', end='')\n",
    "    for j in range(maxbad+1):\n",
    "        print( '-------|', end='')\n",
    "    print('')"
   ]
  },
  {
   "cell_type": "code",
   "execution_count": 10,
   "id": "53a237de-f288-4386-852f-0f2330ac00b9",
   "metadata": {},
   "outputs": [],
   "source": [
    "# A function to add stats for a given user\n",
    "def adduserstats( objtable, user ):\n",
    "    if f\"{user}_good\" in objtable.columns:\n",
    "        return\n",
    "    sys.stderr.write( f\"Adding isgood/isbad for {user}...\\n\" )\n",
    "    def isgoodbad( row, user, goodbad ):\n",
    "        dex = numpy.where(numpy.array( row[\"username\"], ndmin=1 ) == user)[0]\n",
    "        if dex.size == 0:\n",
    "            return False\n",
    "        else:\n",
    "            return numpy.array( row[\"goodbad\"], ndmin=1)[dex[0]] == goodbad\n",
    "    objtable[f\"{user}_good\"] = objtable.apply( lambda row: isgoodbad(row, user, \"good\"), axis=1)\n",
    "    objtable[f\"{user}_bad\"] = objtable.apply( lambda row: isgoodbad(row, user, \"bad\"), axis=1)\n",
    "    sys.stderr.write( f\"...done adding isgood/isbad for {user}.\\n\" )\n",
    "    sys.stderr.flush()\n",
    "    \n",
    "# A function to print user stats\n",
    "def userstats( objtable, user ):\n",
    "    adduserstats( objtable, user )\n",
    "    goodtable = objtable[ objtable[f\"{user}_good\"] ].groupby( [ f\"ngood\", f\"nbad\"] )[\"username\"].count()\n",
    "    print( f\"Ratings for objects that {user} rated good:\" )\n",
    "    print( goodtable )\n",
    "    badtable = objtable[ objtable[f\"{user}_bad\"] ].groupby( [f\"ngood\", f\"nbad\"] )[\"username\"].count()\n",
    "    print( f\"Ratings for objects that {user} rated bad:\" )\n",
    "    print( badtable )\n",
    "    \n",
    "# A function to compare two users\n",
    "def compareusers( objtable, user1, user2 ):\n",
    "    adduserstats( objtable, user1 )\n",
    "    adduserstats( objtable, user2 )\n",
    "    goodgood = ( objtable[f\"{user1}_good\"] & objtable[f\"{user2}_good\"] ).sum()\n",
    "    goodbad =  ( objtable[f\"{user1}_good\"] & objtable[f\"{user2}_bad\"] ).sum()\n",
    "    badgood =  ( objtable[f\"{user1}_bad\"] & objtable[f\"{user2}_good\"] ).sum()\n",
    "    badbad =   ( objtable[f\"{user1}_bad\"] & objtable[f\"{user2}_bad\"] ).sum()\n",
    "    \n",
    "    print( f'{user1:>8s} |   good   |    bad   |' )\n",
    "    print( f'{user2:<8s} |          |          |' )\n",
    "    print( f'---------------------------------' )\n",
    "    print( f'good     |   {goodgood:4d}   |   {badgood:4d}   |' )\n",
    "    print( f'---------------------------------' )\n",
    "    print( f'bad      |   {goodbad:4d}   |   {badbad:4d}   |' )\n",
    "    print( f'---------------------------------' )\n",
    "\n",
    "# Compare user to majority\n",
    "def uservsmajority( objtable, user, minrates=2, mindiff=2 ):\n",
    "    adduserstats( objtable, user )\n",
    "    goodtable = objtable[ ( objtable[\"ngood\"]-objtable[\"nbad\"] >= mindiff ) &\n",
    "                          ( objtable[\"ngood\"]+objtable[\"nbad\"] >= minrates ) ]\n",
    "    badtable = objtable[ ( objtable[\"nbad\"]-objtable[\"ngood\"] >= mindiff ) &\n",
    "                         ( objtable[\"nbad\"]+objtable[\"ngood\"] >= minrates ) ]\n",
    "    goodgood = ( goodtable[f\"{user}_good\"] ).sum()\n",
    "    goodbad = ( goodtable[f\"{user}_bad\"] ).sum()\n",
    "    badgood = ( badtable[f\"{user}_good\"] ).sum()\n",
    "    badbad = ( badtable[f\"{user}_bad\"] ).sum()\n",
    "    \n",
    "    print( f'{user} vs. majority (diff≥{mindiff}, n.rates≥{minrates})' )\n",
    "    print( f' majority|   good   |    bad   |' )\n",
    "    print( f'{user:<8s} |          |          |' )\n",
    "    print( f'---------------------------------' )\n",
    "    print( f'good     |   {goodgood:4d}   |   {badgood:4d}   |' )\n",
    "    print( f'---------------------------------' )\n",
    "    print( f'bad      |   {goodbad:4d}   |   {badbad:4d}   |' )\n",
    "    print( f'---------------------------------' )\n"
   ]
  },
  {
   "cell_type": "code",
   "execution_count": 11,
   "id": "05fe4925-f17a-4289-a527-e6a7c70a2a8b",
   "metadata": {},
   "outputs": [
    {
     "name": "stderr",
     "output_type": "stream",
     "text": [
      "Adding isgood/isbad for rknop...\n",
      "...done adding isgood/isbad for rknop.\n"
     ]
    },
    {
     "name": "stdout",
     "output_type": "stream",
     "text": [
      "Ratings for objects that rknop rated good:\n",
      "ngood  nbad\n",
      "1      0       322\n",
      "       1       905\n",
      "       2       744\n",
      "       3       166\n",
      "       4        19\n",
      "       5         1\n",
      "2      0       921\n",
      "       1       669\n",
      "       2       193\n",
      "       3        14\n",
      "       4         1\n",
      "3      0       509\n",
      "       1       168\n",
      "       2        17\n",
      "       3         2\n",
      "4      0       129\n",
      "       1        25\n",
      "       2         2\n",
      "5      0        13\n",
      "       1         2\n",
      "Name: username, dtype: int64\n",
      "Ratings for objects that rknop rated bad:\n",
      "ngood  nbad\n",
      "0      1       1443\n",
      "       2       8165\n",
      "       3       7146\n",
      "       4       2391\n",
      "       5        264\n",
      "       6         13\n",
      "1      1        422\n",
      "       2        463\n",
      "       3        186\n",
      "       4         26\n",
      "2      1        113\n",
      "       2         54\n",
      "       3          8\n",
      "3      1         17\n",
      "       2          6\n",
      "4      1          1\n",
      "Name: username, dtype: int64\n"
     ]
    }
   ],
   "source": [
    "userstats( objtable, \"rknop\" )"
   ]
  },
  {
   "cell_type": "code",
   "execution_count": 12,
   "id": "beba1991-a02b-46dd-a4d1-a761457736df",
   "metadata": {},
   "outputs": [
    {
     "name": "stderr",
     "output_type": "stream",
     "text": [
      "Adding isgood/isbad for penugent...\n",
      "...done adding isgood/isbad for penugent.\n"
     ]
    },
    {
     "name": "stdout",
     "output_type": "stream",
     "text": [
      "   rknop |   good   |    bad   |\n",
      "penugent |          |          |\n",
      "---------------------------------\n",
      "good     |    111   |     41   |\n",
      "---------------------------------\n",
      "bad      |    165   |   1031   |\n",
      "---------------------------------\n"
     ]
    }
   ],
   "source": [
    "compareusers( objtable, \"rknop\", \"penugent\" )"
   ]
  },
  {
   "cell_type": "code",
   "execution_count": 13,
   "id": "7959e1b8-0d2d-4ccb-ba12-e4bb4b03ea9e",
   "metadata": {},
   "outputs": [
    {
     "name": "stdout",
     "output_type": "stream",
     "text": [
      "rknop vs. majority (diff≥2, n.rates≥1)\n",
      " majority|   good   |    bad   |\n",
      "rknop    |          |          |\n",
      "---------------------------------\n",
      "good     |   1769   |    187   |\n",
      "---------------------------------\n",
      "bad      |     18   |   18191   |\n",
      "---------------------------------\n"
     ]
    }
   ],
   "source": [
    "uservsmajority( objtable, \"rknop\", minrates=1, mindiff=2 )"
   ]
  },
  {
   "cell_type": "code",
   "execution_count": 14,
   "id": "e141729c-7585-46ab-abb4-964235022f6a",
   "metadata": {},
   "outputs": [],
   "source": [
    "# Make a histogram of rb scores\n",
    "def histrb( objtable, mode=\"unanimous\", user=None, minrates=2, mindiff=2, ylog=True, ylinmax=5000 ):\n",
    "    if mode == \"user\":\n",
    "        if user is None:\n",
    "            raise ValueError( \"Must specify user for mode user\" )\n",
    "        adduserstats( objtable, user )\n",
    "        bads = objtable[ objtable[f\"{user}_bad\"] ]\n",
    "        goods = objtable[ objtable[f\"{user}_good\"] ]\n",
    "        title = f\"{user} rankings\"\n",
    "    elif mode == \"unanimous\":\n",
    "        bads = objtable[ ( objtable[\"ngood\"] == 0 ) & ( objtable[\"nbad\"] >= minrates ) ]\n",
    "        goods = objtable[ ( objtable[\"ngood\"] >= minrates ) & ( objtable[\"nbad\"] == 0 ) ]\n",
    "        title = f\"Unanimous vetting with at least {minrates} rankings\"\n",
    "    elif mode ==\"majority\":\n",
    "        bads = objtable[ ( objtable[\"nbad\"]-objtable[\"ngood\"] >= mindiff ) &\n",
    "                         ( objtable[\"nbad\"]+objtable[\"ngood\"] >= minrates ) ]\n",
    "        goods = objtable[ ( objtable[\"ngood\"]-objtable[\"nbad\"] >= mindiff ) &\n",
    "                          ( objtable[\"ngood\"]+ objtable[\"nbad\"] >= minrates ) ]\n",
    "        title = f\"Majority vetting w/ ≥{minrates} ratings and difference ≥ {mindiff}\"\n",
    "    else:\n",
    "        raise ValueError( f\"Unknown mode {mode}\" )\n",
    "    goodrb = goods[\"rb\"].values\n",
    "    badrb = bads[\"rb\"].values\n",
    "    # Have to do the range to 1.1 because numpy.hist doesn't count the right edge,\n",
    "    #  and we definitely want to include rb=1.0\n",
    "    bins = numpy.arange( 0., 1.2, 0.1 )\n",
    "    goodhist, junk = numpy.histogram( goodrb, bins )\n",
    "    badhist, junk = numpy.histogram( badrb, bins )\n",
    "    fig = pyplot.figure( figsize=(10,6), tight_layout=True )\n",
    "    ax = fig.add_subplot( 1, 1, 1 )\n",
    "    if ylog:\n",
    "        ax.set_yscale(\"log\")\n",
    "    else:\n",
    "        ax.set_ylim(0, ylinmax)\n",
    "    ax.set_title( title, fontsize=18 )\n",
    "    ax.set_xlabel( 'rb', fontsize=18 )\n",
    "    ax.set_ylabel( 'N', fontsize=18 )\n",
    "    ax.tick_params( axis='both', labelsize=16 )\n",
    "    ax.step( bins[:-1], goodhist, color='b', where=\"post\" )\n",
    "    ax.step( bins[:-1], badhist, color='r', where=\"post\" )\n",
    "    fig.show()\n",
    "    return fig"
   ]
  },
  {
   "cell_type": "code",
   "execution_count": 15,
   "id": "c49c1621-0327-4bf8-9b2d-3c75359c6c28",
   "metadata": {},
   "outputs": [
    {
     "data": {
      "image/png": "[encoded data removed]",
      "text/plain": [
       "<Figure size 720x432 with 1 Axes>"
      ]
     },
     "metadata": {
      "needs_background": "light"
     },
     "output_type": "display_data"
    }
   ],
   "source": [
    "fig = histrb( objtable, mode=\"user\", user=\"rknop\", minrates=2, mindiff=2, ylog=True, ylinmax=1500 )\n",
    "fig.savefig( \"vettingvsrb.svg\" )"
   ]
  },
  {
   "cell_type": "code",
   "execution_count": null,
   "id": "71641fe7-d9c7-4283-a08c-712b4219e5fd",
   "metadata": {},
   "outputs": [],
   "source": []
  }
 ],
 "metadata": {
  "kernelspec": {
   "display_name": "Python 3",
   "language": "python",
   "name": "python3"
  },
  "language_info": {
   "codemirror_mode": {
    "name": "ipython",
    "version": 3
   },
   "file_extension": ".py",
   "mimetype": "text/x-python",
   "name": "python",
   "nbconvert_exporter": "python",
   "pygments_lexer": "ipython3",
   "version": "3.7.4"
  }
 },
 "nbformat": 4,
 "nbformat_minor": 5
}
