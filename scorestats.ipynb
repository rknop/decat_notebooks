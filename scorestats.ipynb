{
 "cells": [
  {
   "cell_type": "code",
   "execution_count": 101,
   "id": "db399df4-8538-4131-9934-3b4a57f42c55",
   "metadata": {},
   "outputs": [],
   "source": [
    "%matplotlib inline\n",
    "import sys\n",
    "import psycopg2\n",
    "import psycopg2.extras\n",
    "import numpy\n",
    "import pandas\n",
    "from matplotlib import pyplot"
   ]
  },
  {
   "cell_type": "code",
   "execution_count": 156,
   "id": "f51dd563-1dd6-4620-9c03-f22c232a7e30",
   "metadata": {},
   "outputs": [],
   "source": [
    "# Read scanscore into memory for further processing\n",
    "with open(\"/global/homes/r/raknop/secrets/decatdb_decat_decat\") as ifp:\n",
    "    (user, passwd) = ifp.readline().strip().split()\n",
    "db = psycopg2.connect(f\"dbname='decat' user='{user}' password='{passwd}' host='decatdb.lbl.gov'\",\n",
    "                      cursor_factory=psycopg2.extras.RealDictCursor)\n",
    "q = ( 'SELECT s.id,s.object_id,s.username,s.goodbad,o.rb '\n",
    "      'FROM scanscore s '\n",
    "      'INNER JOIN objects o ON s.object_id=o.id '\n",
    "      'ORDER BY s.object_id' )\n",
    "cursor = db.cursor()\n",
    "cursor.execute(q)\n",
    "scanscore = pandas.DataFrame( cursor.fetchall() )\n",
    "cursor.close()\n",
    "db.close()"
   ]
  },
  {
   "cell_type": "code",
   "execution_count": 157,
   "id": "52ef3f91-4c5b-4417-926f-e56f9d663d64",
   "metadata": {},
   "outputs": [
    {
     "name": "stdout",
     "output_type": "stream",
     "text": [
      "            num  good_frac\n",
      "username                  \n",
      "autumn    24760   0.166559\n",
      "ruby      24406   0.102147\n",
      "rknop     17622   0.195040\n",
      "alexis    16110   0.099131\n",
      "caitlin    3495   0.152217\n",
      "penugent   2145   0.111422\n",
      "tkennedy    608   0.238487\n"
     ]
    }
   ],
   "source": [
    "# Show how many objects each user has vetted\n",
    "tots = scanscore.groupby(['username','goodbad'])['object_id'].count()\n",
    "tots = tots.groupby(['username']).agg( num='sum',\n",
    "                                       good_frac=lambda row: row[row.index[1][1]==\"good\"] / row.sum() )\n",
    "tots = tots.sort_values( 'num', ascending=False )\n",
    "print(tots)\n"
   ]
  },
  {
   "cell_type": "code",
   "execution_count": 158,
   "id": "11bea649-62d2-4bf7-a0e0-c8b49e38415c",
   "metadata": {},
   "outputs": [
    {
     "name": "stdout",
     "output_type": "stream",
     "text": [
      "   #vets  count\n",
      "0      1  17082\n",
      "1      2  14666\n",
      "2      3   9905\n",
      "3      4   2858\n",
      "4      5    299\n",
      "5      6     15\n"
     ]
    }
   ],
   "source": [
    "# Show stats on how many times a given object has been vetted\n",
    "print( scanscore.groupby(['object_id'])['username'].count().reset_index(name='#vets')\n",
    "       .groupby(['#vets'])['object_id'].count().reset_index(name=\"count\") )"
   ]
  },
  {
   "cell_type": "code",
   "execution_count": 159,
   "id": "70682a91-5316-48aa-9e92-02cce727b6d8",
   "metadata": {},
   "outputs": [
    {
     "name": "stdout",
     "output_type": "stream",
     "text": [
      "   goodbad  num  count\n",
      "0      bad    1  17499\n",
      "1      bad    2  13254\n",
      "2      bad    3   7699\n",
      "3      bad    4   2114\n",
      "4      bad    5    193\n",
      "5      bad    6      9\n",
      "6     good    1   5673\n",
      "7     good    2   2166\n",
      "8     good    3    665\n",
      "9     good    4    128\n",
      "10    good    5     11\n"
     ]
    }
   ],
   "source": [
    "# Show counts of num goods and num bads.  Not terribly meaningful by itself, we\n",
    "#   really need to do cross counts\n",
    "print( scanscore.groupby( ['object_id', 'goodbad'] )['object_id'].count().reset_index(name='num')\n",
    "       .groupby( ['goodbad', 'num'] )['num'].count().reset_index(name='count') )"
   ]
  },
  {
   "cell_type": "code",
   "execution_count": 160,
   "id": "8261ec99-25a1-4379-b9a1-ced0bfde3be1",
   "metadata": {},
   "outputs": [],
   "source": [
    "# Create a table where each row is one object, that has username and goodbad as lists\n",
    "# GRR.  Even though I pass ndmin=1, I'm still getting 0-dimension arrays (really, just strings)\n",
    "# This is annoying; it's why I have the numpy.array calls in the lambdas in the second two lines\n",
    "objtable = scanscore.groupby( ['object_id', 'rb'] )[\"username\", \"goodbad\"].agg(numpy.array, ndmin=1)\n",
    "objtable[\"ngood\"] = objtable[\"goodbad\"].apply( lambda x: ( numpy.array( x, ndmin=1 ) == \"good\" ).sum() )\n",
    "objtable[\"nbad\"] = objtable[\"goodbad\"].apply( lambda x: ( numpy.array( x, ndmin=1 ) == \"bad\" ).sum() )\n",
    "objtable.reset_index(inplace=True)"
   ]
  },
  {
   "cell_type": "code",
   "execution_count": 161,
   "id": "8a512180-525d-4b2e-9a66-e805bb67c962",
   "metadata": {},
   "outputs": [
    {
     "name": "stdout",
     "output_type": "stream",
     "text": [
      "       object_id        rb        username     goodbad  ngood  nbad\n",
      "0             63  0.000034            ruby         bad      0     1\n",
      "1            162  0.000077  [ruby, alexis]  [bad, bad]      0     2\n",
      "2            258  0.007573  [ruby, alexis]  [bad, bad]      0     2\n",
      "3            327  0.001489            ruby         bad      0     1\n",
      "4            333  0.002760            ruby         bad      0     1\n",
      "...          ...       ...             ...         ...    ...   ...\n",
      "44820   11231155  0.000286           rknop         bad      0     1\n",
      "44821   11232795  0.000860           rknop         bad      0     1\n",
      "44822   11235735  0.000453           rknop         bad      0     1\n",
      "44823   11236973  0.037404           rknop         bad      0     1\n",
      "44824   11241315  0.080948           rknop        good      1     0\n",
      "\n",
      "[44825 rows x 6 columns]\n"
     ]
    }
   ],
   "source": [
    "print(objtable)"
   ]
  },
  {
   "cell_type": "code",
   "execution_count": 162,
   "id": "5378e515-33b2-4be8-9e9f-947120dcd9f4",
   "metadata": {},
   "outputs": [
    {
     "name": "stdout",
     "output_type": "stream",
     "text": [
      "Index(['object_id', 'rb', 'username', 'goodbad', 'ngood', 'nbad'], dtype='object')\n"
     ]
    }
   ],
   "source": [
    "print( objtable.columns )"
   ]
  },
  {
   "cell_type": "code",
   "execution_count": 163,
   "id": "4f1e4783-e2d4-479b-b0e9-01467f1d7782",
   "metadata": {},
   "outputs": [
    {
     "name": "stdout",
     "output_type": "stream",
     "text": [
      "  nbad |     0 |     1 |     2 |     3 |     4 |     5 |     6 |\n",
      "ngood  |       |       |       |       |       |       |       |\n",
      "-------|-------|-------|-------|-------|-------|-------|-------|\n",
      "     0 |     0 | 14774 | 11756 |  7378 |  2072 |   193 |     9 |\n",
      "-------|-------|-------|-------|-------|-------|-------|-------|\n",
      "     1 |  2308 |  1770 |  1252 |   302 |    41 |     0 |     0 |\n",
      "-------|-------|-------|-------|-------|-------|-------|-------|\n",
      "     2 |  1140 |   783 |   225 |    17 |     1 |     0 |     0 |\n",
      "-------|-------|-------|-------|-------|-------|-------|-------|\n",
      "     3 |   492 |   152 |    19 |     2 |     0 |     0 |     0 |\n",
      "-------|-------|-------|-------|-------|-------|-------|-------|\n",
      "     4 |   107 |    19 |     2 |     0 |     0 |     0 |     0 |\n",
      "-------|-------|-------|-------|-------|-------|-------|-------|\n",
      "     5 |    10 |     1 |     0 |     0 |     0 |     0 |     0 |\n",
      "-------|-------|-------|-------|-------|-------|-------|-------|\n"
     ]
    }
   ],
   "source": [
    "# Show consistency stats\n",
    "maxgood = objtable['ngood'].max()\n",
    "maxbad = objtable['nbad'].max()\n",
    "print( f'{\"nbad\":>6s} |', end='' )\n",
    "for j in range(maxbad+1):\n",
    "    print( f' {j:5d} |', end='' )\n",
    "print('\\nngood  |', end='')\n",
    "for j in range(maxbad+1):\n",
    "    print( '       |', end='')\n",
    "print('\\n-------|', end='')\n",
    "for j in range(maxbad+1):\n",
    "    print( '-------|', end='')\n",
    "print('')\n",
    "for i in range(maxgood+1):\n",
    "    print( f' {i:5d} |', end='' )\n",
    "    for j in range(maxbad+1):\n",
    "        n = ( ( objtable['ngood'] == i ) & ( objtable['nbad'] == j ) ).sum()\n",
    "        print( f' {n:5} |', end='' )\n",
    "    print('\\n-------|', end='')\n",
    "    for j in range(maxbad+1):\n",
    "        print( '-------|', end='')\n",
    "    print('')"
   ]
  },
  {
   "cell_type": "code",
   "execution_count": 164,
   "id": "53a237de-f288-4386-852f-0f2330ac00b9",
   "metadata": {},
   "outputs": [],
   "source": [
    "# A function to add stats for a given user\n",
    "def adduserstats( objtable, user ):\n",
    "    if f\"{user}_good\" in objtable.columns:\n",
    "        return\n",
    "    sys.stderr.write( f\"Adding isgood/isbad for {user}...\\n\" )\n",
    "    def isgoodbad( row, user, goodbad ):\n",
    "        dex = numpy.where(numpy.array( row[\"username\"], ndmin=1 ) == user)[0]\n",
    "        if dex.size == 0:\n",
    "            return False\n",
    "        else:\n",
    "            return numpy.array( row[\"goodbad\"], ndmin=1)[dex[0]] == goodbad\n",
    "    objtable[f\"{user}_good\"] = objtable.apply( lambda row: isgoodbad(row, user, \"good\"), axis=1)\n",
    "    objtable[f\"{user}_bad\"] = objtable.apply( lambda row: isgoodbad(row, user, \"bad\"), axis=1)\n",
    "    sys.stderr.write( f\"...done adding isgood/isbad for {user}.\\n\" )\n",
    "    sys.stderr.flush()\n",
    "    \n",
    "# A function to print user stats\n",
    "def userstats( objtable, user ):\n",
    "    adduserstats( objtable, user )\n",
    "    goodtable = objtable[ objtable[f\"{user}_good\"] ].groupby( [ f\"ngood\", f\"nbad\"] )[\"username\"].count()\n",
    "    print( f\"Ratings for objects that {user} rated good:\" )\n",
    "    print( goodtable )\n",
    "    badtable = objtable[ objtable[f\"{user}_bad\"] ].groupby( [f\"ngood\", f\"nbad\"] )[\"username\"].count()\n",
    "    print( f\"Ratings for objects that {user} rated bad:\" )\n",
    "    print( badtable )\n",
    "    \n",
    "# A function to compare two users\n",
    "def compareusers( objtable, user1, user2 ):\n",
    "    adduserstats( objtable, user1 )\n",
    "    adduserstats( objtable, user2 )\n",
    "    goodgood = ( objtable[f\"{user1}_good\"] & objtable[f\"{user2}_good\"] ).sum()\n",
    "    goodbad =  ( objtable[f\"{user1}_good\"] & objtable[f\"{user2}_bad\"] ).sum()\n",
    "    badgood =  ( objtable[f\"{user1}_bad\"] & objtable[f\"{user2}_good\"] ).sum()\n",
    "    badbad =   ( objtable[f\"{user1}_bad\"] & objtable[f\"{user2}_bad\"] ).sum()\n",
    "    \n",
    "    print( f'{user1:>8s} |   good   |    bad   |' )\n",
    "    print( f'{user2:<8s} |          |          |' )\n",
    "    print( f'---------------------------------' )\n",
    "    print( f'good     |   {goodgood:4d}   |   {badgood:4d}   |' )\n",
    "    print( f'---------------------------------' )\n",
    "    print( f'bad      |   {goodbad:4d}   |   {badbad:4d}   |' )\n",
    "    print( f'---------------------------------' )\n",
    "\n",
    "# Compare user to majority\n",
    "def uservsmajority( objtable, user, minrates=2, mindiff=2 ):\n",
    "    adduserstats( objtable, user )\n",
    "    goodtable = objtable[ ( objtable[\"ngood\"]-objtable[\"nbad\"] >= mindiff ) &\n",
    "                          ( objtable[\"ngood\"]+objtable[\"nbad\"] >= minrates ) ]\n",
    "    badtable = objtable[ ( objtable[\"nbad\"]-objtable[\"ngood\"] >= mindiff ) &\n",
    "                         ( objtable[\"nbad\"]+objtable[\"ngood\"] >= minrates ) ]\n",
    "    goodgood = ( goodtable[f\"{user}_good\"] ).sum()\n",
    "    goodbad = ( goodtable[f\"{user}_bad\"] ).sum()\n",
    "    badgood = ( badtable[f\"{user}_good\"] ).sum()\n",
    "    badbad = ( badtable[f\"{user}_bad\"] ).sum()\n",
    "    \n",
    "    print( f'{user} vs. majority (diff≥{mindiff}, n.rates≥{minrates})' )\n",
    "    print( f'majority |   good   |    bad   |' )\n",
    "    print( f'{user:<8s} |          |          |' )\n",
    "    print( f'---------------------------------' )\n",
    "    print( f'good     |   {goodgood:4d}   |   {badgood:4d}   |' )\n",
    "    print( f'---------------------------------' )\n",
    "    print( f'bad      |   {goodbad:4d}   |   {badbad:4d}   |' )\n",
    "    print( f'---------------------------------' )\n"
   ]
  },
  {
   "cell_type": "code",
   "execution_count": 165,
   "id": "05fe4925-f17a-4289-a527-e6a7c70a2a8b",
   "metadata": {},
   "outputs": [
    {
     "name": "stderr",
     "output_type": "stream",
     "text": [
      "Adding isgood/isbad for rknop...\n",
      "...done adding isgood/isbad for rknop.\n"
     ]
    },
    {
     "name": "stdout",
     "output_type": "stream",
     "text": [
      "Ratings for objects that rknop rated good:\n",
      "ngood  nbad\n",
      "1      0       322\n",
      "       1       541\n",
      "       2       572\n",
      "       3       125\n",
      "       4        18\n",
      "2      0       557\n",
      "       1       498\n",
      "       2       155\n",
      "       3         9\n",
      "       4         1\n",
      "3      0       375\n",
      "       1       121\n",
      "       2        13\n",
      "       3         2\n",
      "4      0        99\n",
      "       1        17\n",
      "       2         2\n",
      "5      0         9\n",
      "       1         1\n",
      "Name: username, dtype: int64\n",
      "Ratings for objects that rknop rated bad:\n",
      "ngood  nbad\n",
      "0      1       1444\n",
      "       2       4586\n",
      "       3       5226\n",
      "       4       1821\n",
      "       5        185\n",
      "       6          9\n",
      "1      1        229\n",
      "       2        357\n",
      "       3        140\n",
      "       4         21\n",
      "2      1         93\n",
      "       2         46\n",
      "       3          6\n",
      "3      1         15\n",
      "       2          6\n",
      "4      1          1\n",
      "Name: username, dtype: int64\n"
     ]
    }
   ],
   "source": [
    "userstats( objtable, \"rknop\" )"
   ]
  },
  {
   "cell_type": "code",
   "execution_count": 166,
   "id": "beba1991-a02b-46dd-a4d1-a761457736df",
   "metadata": {},
   "outputs": [
    {
     "name": "stderr",
     "output_type": "stream",
     "text": [
      "Adding isgood/isbad for autumn...\n",
      "...done adding isgood/isbad for autumn.\n"
     ]
    },
    {
     "name": "stdout",
     "output_type": "stream",
     "text": [
      "   rknop |   good   |    bad   |\n",
      "autumn   |          |          |\n",
      "---------------------------------\n",
      "good     |    991   |    450   |\n",
      "---------------------------------\n",
      "bad      |    695   |   6451   |\n",
      "---------------------------------\n"
     ]
    }
   ],
   "source": [
    "compareusers( objtable, \"rknop\", \"autumn\" )"
   ]
  },
  {
   "cell_type": "code",
   "execution_count": 167,
   "id": "7959e1b8-0d2d-4ccb-ba12-e4bb4b03ea9e",
   "metadata": {},
   "outputs": [
    {
     "name": "stdout",
     "output_type": "stream",
     "text": [
      "rknop vs. majority (diff≥2, n.rates≥1)\n",
      "majority |   good   |    bad   |\n",
      "rknop    |          |          |\n",
      "---------------------------------\n",
      "good     |   1181   |    144   |\n",
      "---------------------------------\n",
      "bad      |     16   |   11988   |\n",
      "---------------------------------\n"
     ]
    }
   ],
   "source": [
    "uservsmajority( objtable, \"rknop\", minrates=1, mindiff=2 )"
   ]
  },
  {
   "cell_type": "code",
   "execution_count": 168,
   "id": "e141729c-7585-46ab-abb4-964235022f6a",
   "metadata": {},
   "outputs": [],
   "source": [
    "# Make a histogram of rb scores\n",
    "def histrb( objtable, mode=\"unanimous\", user=None, minrates=2, mindiff=2 ):\n",
    "    if mode == \"user\":\n",
    "        if user is None:\n",
    "            raise ValueError( \"Must specify user for mode user\" )\n",
    "        adduserstats( objtable, user )\n",
    "        bads = objtable[ objtable[f\"{user}_bad\"] ]\n",
    "        goods = objtable[ objtable[f\"{user}_good\"] ]\n",
    "        title = f\"{user} rankings\"\n",
    "    elif mode == \"unanimous\":\n",
    "        bads = objtable[ ( objtable[\"ngood\"] == 0 ) & ( objtable[\"nbad\"] >= minrates ) ]\n",
    "        goods = objtable[ ( objtable[\"ngood\"] >= minrates ) & ( objtable[\"nbad\"] == 0 ) ]\n",
    "        title = f\"Unanimous vetting with at least {minrates} rankings\"\n",
    "    elif mode ==\"majority\":\n",
    "        bads = objtable[ ( objtable[\"nbad\"]-objtable[\"ngood\"] >= mindiff ) &\n",
    "                         ( objtable[\"nbad\"]+objtable[\"ngood\"] >= minrates ) ]\n",
    "        goods = objtable[ ( objtable[\"ngood\"]-objtable[\"nbad\"] >= mindiff ) &\n",
    "                          ( objtable[\"ngood\"]+ objtable[\"nbad\"] >= minrates ) ]\n",
    "        title = f\"Majority vetting w/ ≥{minrates} ratings and difference ≥ {mindiff}\"\n",
    "    else:\n",
    "        raise ValueError( f\"Unknown mode {mode}\" )\n",
    "    goodrb = goods[\"rb\"].values\n",
    "    badrb = bads[\"rb\"].values\n",
    "    # Have to do the range to 1.1 because numpy.hist doesn't count the right edge,\n",
    "    #  and we definitely want to include rb=1.0\n",
    "    bins = numpy.arange( 0., 1.2, 0.1 )\n",
    "    goodhist, junk = numpy.histogram( goodrb, bins )\n",
    "    badhist, junk = numpy.histogram( badrb, bins )\n",
    "    fig = pyplot.figure( figsize=(10,6), tight_layout=True )\n",
    "    ax = fig.add_subplot( 1, 1, 1 )\n",
    "    ax.set_yscale(\"log\")\n",
    "    # ax.set_ylim(0,5000)\n",
    "    ax.set_title( title, fontsize=18 )\n",
    "    ax.set_xlabel( 'rb', fontsize=18 )\n",
    "    ax.set_ylabel( 'N', fontsize=18 )\n",
    "    ax.tick_params( axis='both', labelsize=16 )\n",
    "    ax.step( bins[:-1], goodhist, color='b', where=\"post\" )\n",
    "    ax.step( bins[:-1], badhist, color='r', where=\"post\" )\n",
    "    fig.show()\n",
    "    return fig"
   ]
  },
  {
   "cell_type": "code",
   "execution_count": 170,
   "id": "c49c1621-0327-4bf8-9b2d-3c75359c6c28",
   "metadata": {},
   "outputs": [
    {
     "data": {
      "image/png": "[encoded data removed]",
      "text/plain": [
       "<Figure size 720x432 with 1 Axes>"
      ]
     },
     "metadata": {
      "needs_background": "light"
     },
     "output_type": "display_data"
    }
   ],
   "source": [
    "fig = histrb( objtable, mode=\"user\", user=\"rknop\", minrates=2, mindiff=2 )\n",
    "fig.savefig( \"vettingvsrb.svg\" )"
   ]
  },
  {
   "cell_type": "code",
   "execution_count": null,
   "id": "71641fe7-d9c7-4283-a08c-712b4219e5fd",
   "metadata": {},
   "outputs": [],
   "source": []
  }
 ],
 "metadata": {
  "kernelspec": {
   "display_name": "Python 3",
   "language": "python",
   "name": "python3"
  },
  "language_info": {
   "codemirror_mode": {
    "name": "ipython",
    "version": 3
   },
   "file_extension": ".py",
   "mimetype": "text/x-python",
   "name": "python",
   "nbconvert_exporter": "python",
   "pygments_lexer": "ipython3",
   "version": "3.7.4"
  }
 },
 "nbformat": 4,
 "nbformat_minor": 5
}
