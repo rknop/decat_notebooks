{
 "cells": [
  {
   "cell_type": "code",
   "execution_count": 136,
   "id": "db399df4-8538-4131-9934-3b4a57f42c55",
   "metadata": {},
   "outputs": [],
   "source": [
    "%matplotlib inline\n",
    "import sys\n",
    "import os\n",
    "import getpass\n",
    "import psycopg2\n",
    "import psycopg2.extras\n",
    "import numpy\n",
    "import pandas\n",
    "import matplotlib\n",
    "from matplotlib import pyplot"
   ]
  },
  {
   "cell_type": "code",
   "execution_count": 159,
   "id": "6e529c2e-c2df-425e-94ce-6266f826d549",
   "metadata": {},
   "outputs": [],
   "source": [
    "# Connect to the database\n",
    "if os.path.isfile( \"/global/homes/r/raknop/secrets/decatdb_decat_decat_ro\" ):\n",
    "    with open( \"/global/homes/r/raknop/secrets/decatdb_decat_decat_ro\" ) as ifp:\n",
    "        dbuser, dbpasswd = ifp.readline().strip().split()\n",
    "else:\n",
    "    dbuser = 'decat_ro'\n",
    "    dbpasswd = getpass.getpass( 'decat readonly database password: ' )\n",
    "db = psycopg2.connect(dbname='decat', user=dbuser, password=dbpasswd, host='decatdb.lbl.gov',\n",
    "                      cursor_factory=psycopg2.extras.RealDictCursor)"
   ]
  },
  {
   "cell_type": "code",
   "execution_count": 160,
   "id": "b9e76e0d-36fd-401a-9db9-dcc49f988982",
   "metadata": {},
   "outputs": [
    {
     "name": "stdout",
     "output_type": "stream",
     "text": [
      "1 — Venkitesh Ayyar CNN paper model (r/b cut 0.6)\n",
      "2 — jpeg majority 2021-11-05 (r/b cut 0.3)\n"
     ]
    },
    {
     "name": "stdin",
     "output_type": "stream",
     "text": [
      "Select r/b type number:  2\n"
     ]
    }
   ],
   "source": [
    "# Figure out which rbid we're using\n",
    "cursor = db.cursor()\n",
    "cursor.execute( 'SELECT * FROM rbtypes' )\n",
    "rbtypes = cursor.fetchall()\n",
    "cursor.close()\n",
    "for row in rbtypes:\n",
    "    print( f\"{row['id']} — {row['description']} (r/b cut {row['rbcut']})\" )\n",
    "rbid = int(input( \"Select r/b type number: \" ))\n",
    "rbtype = None\n",
    "for row in rbtypes:\n",
    "    if row['id'] == rbid:\n",
    "        rbtype = row\n",
    "        break\n",
    "if rbtype is None:\n",
    "    raise ValueError( f'Unknown r/b type {rbid}' )"
   ]
  },
  {
   "cell_type": "code",
   "execution_count": 161,
   "id": "f51dd563-1dd6-4620-9c03-f22c232a7e30",
   "metadata": {},
   "outputs": [],
   "source": [
    "# Read scanscore into memory for further processing\n",
    "\n",
    "q = ( 'SELECT s.id,s.object_id,s.username,s.goodbad,r.rb '\n",
    "      'FROM scanscore s '\n",
    "      'INNER JOIN objects o ON s.object_id=o.id '\n",
    "      'INNER JOIN objectrbs r ON o.id=r.object_id '\n",
    "      'WHERE r.rbtype_id=%(rbtype)s '\n",
    "      'ORDER BY s.object_id' )\n",
    "cursor = db.cursor()\n",
    "cursor.execute(q, { \"rbtype\": rbtype[\"id\"] } )\n",
    "scanscore = pandas.DataFrame( cursor.fetchall() )\n",
    "cursor.close()\n",
    "db.close()"
   ]
  },
  {
   "cell_type": "code",
   "execution_count": 162,
   "id": "52ef3f91-4c5b-4417-926f-e56f9d663d64",
   "metadata": {},
   "outputs": [
    {
     "name": "stdout",
     "output_type": "stream",
     "text": [
      "Note: only objects for which r/b type 2 is saved in the database are counted\n",
      "            num  good_frac\n",
      "username                  \n",
      "ruby      37354   0.118890\n",
      "autumn    29015   0.183629\n",
      "rknop     24843   0.191201\n",
      "alexis    22813   0.106168\n",
      "penugent   5105   0.119099\n",
      "caitlin    3495   0.152217\n",
      "tkennedy    608   0.238487\n"
     ]
    }
   ],
   "source": [
    "# Show how many objects each user has vetted\n",
    "print( f'Note: only objects for which r/b type {rbtype[\"id\"]} is saved in the database are counted' )\n",
    "tots = scanscore.groupby(['username','goodbad'])['object_id'].count()\n",
    "tots = tots.groupby(['username']).agg( num='sum',\n",
    "                                       good_frac=lambda row: row.loc[:,'good'] / row.sum() )\n",
    "tots = tots.sort_values(\"num\", ascending=False)\n",
    "print(tots)\n"
   ]
  },
  {
   "cell_type": "code",
   "execution_count": 163,
   "id": "11bea649-62d2-4bf7-a0e0-c8b49e38415c",
   "metadata": {},
   "outputs": [
    {
     "name": "stdout",
     "output_type": "stream",
     "text": [
      "   #vets  count\n",
      "0      1   9751\n",
      "1      2  16623\n",
      "2      3  16016\n",
      "3      4   6716\n",
      "4      5   1000\n",
      "5      6     54\n"
     ]
    }
   ],
   "source": [
    "# Show stats on how many times a given object has been vetted\n",
    "print( scanscore.groupby(['object_id'])['username'].count().reset_index(name='#vets')\n",
    "       .groupby(['#vets'])['object_id'].count().reset_index(name=\"count\") )"
   ]
  },
  {
   "cell_type": "code",
   "execution_count": 164,
   "id": "70682a91-5316-48aa-9e92-02cce727b6d8",
   "metadata": {},
   "outputs": [
    {
     "name": "stdout",
     "output_type": "stream",
     "text": [
      "   goodbad  num  count\n",
      "0      bad    1  12129\n",
      "1      bad    2  15752\n",
      "2      bad    3  12719\n",
      "3      bad    4   4918\n",
      "4      bad    5    667\n",
      "5      bad    6     35\n",
      "6     good    1   6443\n",
      "7     good    2   3205\n",
      "8     good    3   1274\n",
      "9     good    4    329\n",
      "10    good    5     47\n"
     ]
    }
   ],
   "source": [
    "# Show counts of num goods and num bads.  Not terribly meaningful by itself, we\n",
    "#   really need to do cross counts\n",
    "print( scanscore.groupby( ['object_id', 'goodbad'] )['object_id'].count().reset_index(name='num')\n",
    "       .groupby( ['goodbad', 'num'] )['num'].count().reset_index(name='count') )"
   ]
  },
  {
   "cell_type": "code",
   "execution_count": 165,
   "id": "8261ec99-25a1-4379-b9a1-ced0bfde3be1",
   "metadata": {},
   "outputs": [],
   "source": [
    "# Create a table where each row is one object, that has username and goodbad as lists\n",
    "# This takes a few seconds\n",
    "objtable = ( scanscore.groupby( ['object_id', 'rb'] )[ [\"username\", \"goodbad\"] ]\n",
    "               .agg( tuple ) )\n",
    "objtable[\"ngood\"] = objtable[\"goodbad\"].apply( lambda x: ( numpy.array( x ) == \"good\" ).sum() )\n",
    "objtable[\"nbad\"] = objtable[\"goodbad\"].apply( lambda x: ( numpy.array( x ) == \"bad\" ).sum() )\n",
    "objtable.reset_index(inplace=True)"
   ]
  },
  {
   "cell_type": "code",
   "execution_count": 166,
   "id": "8a512180-525d-4b2e-9a66-e805bb67c962",
   "metadata": {},
   "outputs": [
    {
     "name": "stdout",
     "output_type": "stream",
     "text": [
      "       object_id        rb                  username          goodbad  ngood  \\\n",
      "0             63  0.069825     (ruby, rknop, alexis)  (bad, bad, bad)      0   \n",
      "1            101  0.047672    (autumn, ruby, alexis)  (bad, bad, bad)      0   \n",
      "2            162  0.080649     (ruby, alexis, rknop)  (bad, bad, bad)      0   \n",
      "3            258  0.030767     (ruby, alexis, rknop)  (bad, bad, bad)      0   \n",
      "4            324  0.025982                   (ruby,)           (bad,)      0   \n",
      "...          ...       ...                       ...              ...    ...   \n",
      "50155   10653339  0.038954                 (autumn,)           (bad,)      0   \n",
      "50156   10653340  0.503102                 (autumn,)           (bad,)      0   \n",
      "50157   10653537  0.011080  (ruby, autumn, penugent)  (bad, bad, bad)      0   \n",
      "50158   10653554  0.008077            (ruby, alexis)       (bad, bad)      0   \n",
      "50159   10653577  0.039683     (ruby, autumn, rknop)  (bad, bad, bad)      0   \n",
      "\n",
      "       nbad  \n",
      "0         3  \n",
      "1         3  \n",
      "2         3  \n",
      "3         3  \n",
      "4         1  \n",
      "...     ...  \n",
      "50155     1  \n",
      "50156     1  \n",
      "50157     3  \n",
      "50158     2  \n",
      "50159     3  \n",
      "\n",
      "[50160 rows x 6 columns]\n"
     ]
    }
   ],
   "source": [
    "print(objtable)"
   ]
  },
  {
   "cell_type": "code",
   "execution_count": 167,
   "id": "5378e515-33b2-4be8-9e9f-947120dcd9f4",
   "metadata": {},
   "outputs": [
    {
     "name": "stdout",
     "output_type": "stream",
     "text": [
      "Index(['object_id', 'rb', 'username', 'goodbad', 'ngood', 'nbad'], dtype='object')\n"
     ]
    }
   ],
   "source": [
    "print( objtable.columns )"
   ]
  },
  {
   "cell_type": "code",
   "execution_count": 168,
   "id": "4f1e4783-e2d4-479b-b0e9-01467f1d7782",
   "metadata": {},
   "outputs": [
    {
     "name": "stdout",
     "output_type": "stream",
     "text": [
      "  nbad |     0 |     1 |     2 |     3 |     4 |     5 |     6 |\n",
      "ngood  |       |       |       |       |       |       |       |\n",
      "-------|-------|-------|-------|-------|-------|-------|-------|\n",
      "     0 |     0 |  8327 | 13139 | 11889 |  4812 |   660 |    35 |\n",
      "-------|-------|-------|-------|-------|-------|-------|-------|\n",
      "     1 |  1424 |  2145 |  2016 |   746 |   105 |     7 |     0 |\n",
      "-------|-------|-------|-------|-------|-------|-------|-------|\n",
      "     2 |  1339 |  1249 |   537 |    79 |     1 |     0 |     0 |\n",
      "-------|-------|-------|-------|-------|-------|-------|-------|\n",
      "     3 |   862 |   350 |    57 |     5 |     0 |     0 |     0 |\n",
      "-------|-------|-------|-------|-------|-------|-------|-------|\n",
      "     4 |   271 |    55 |     3 |     0 |     0 |     0 |     0 |\n",
      "-------|-------|-------|-------|-------|-------|-------|-------|\n",
      "     5 |    44 |     3 |     0 |     0 |     0 |     0 |     0 |\n",
      "-------|-------|-------|-------|-------|-------|-------|-------|\n"
     ]
    }
   ],
   "source": [
    "# Show consistency stats\n",
    "maxgood = objtable['ngood'].max()\n",
    "maxbad = objtable['nbad'].max()\n",
    "print( f'{\"nbad\":>6s} |', end='' )\n",
    "for j in range(maxbad+1):\n",
    "    print( f' {j:5d} |', end='' )\n",
    "print('\\nngood  |', end='')\n",
    "for j in range(maxbad+1):\n",
    "    print( '       |', end='')\n",
    "print('\\n-------|', end='')\n",
    "for j in range(maxbad+1):\n",
    "    print( '-------|', end='')\n",
    "print('')\n",
    "for i in range(maxgood+1):\n",
    "    print( f' {i:5d} |', end='' )\n",
    "    for j in range(maxbad+1):\n",
    "        n = ( ( objtable['ngood'] == i ) & ( objtable['nbad'] == j ) ).sum()\n",
    "        print( f' {n:5} |', end='' )\n",
    "    print('\\n-------|', end='')\n",
    "    for j in range(maxbad+1):\n",
    "        print( '-------|', end='')\n",
    "    print('')"
   ]
  },
  {
   "cell_type": "code",
   "execution_count": 169,
   "id": "53a237de-f288-4386-852f-0f2330ac00b9",
   "metadata": {},
   "outputs": [],
   "source": [
    "# A function to add stats for a given user\n",
    "def adduserstats( objtable, user ):\n",
    "    if f\"{user}_good\" in objtable.columns:\n",
    "        return\n",
    "    sys.stderr.write( f\"Adding isgood/isbad for {user}...\\n\" )\n",
    "    def isgoodbad( row, user, goodbad ):\n",
    "        dex = numpy.where(numpy.array( row[\"username\"], ndmin=1 ) == user)[0]\n",
    "        if dex.size == 0:\n",
    "            return False\n",
    "        else:\n",
    "            return numpy.array( row[\"goodbad\"], ndmin=1)[dex[0]] == goodbad\n",
    "    objtable[f\"{user}_good\"] = objtable.apply( lambda row: isgoodbad(row, user, \"good\"), axis=1)\n",
    "    objtable[f\"{user}_bad\"] = objtable.apply( lambda row: isgoodbad(row, user, \"bad\"), axis=1)\n",
    "    sys.stderr.write( f\"...done adding isgood/isbad for {user}.\\n\" )\n",
    "    sys.stderr.flush()\n",
    "    \n",
    "# A function to print user stats\n",
    "def userstats( objtable, user ):\n",
    "    adduserstats( objtable, user )\n",
    "    goodtable = objtable[ objtable[f\"{user}_good\"] ].groupby( [ f\"ngood\", f\"nbad\"] )[\"username\"].count()\n",
    "    print( f\"Ratings for objects that {user} rated good:\" )\n",
    "    print( goodtable )\n",
    "    badtable = objtable[ objtable[f\"{user}_bad\"] ].groupby( [f\"ngood\", f\"nbad\"] )[\"username\"].count()\n",
    "    print( f\"Ratings for objects that {user} rated bad:\" )\n",
    "    print( badtable )\n",
    "    \n",
    "# A function to compare two users\n",
    "def compareusers( objtable, user1, user2 ):\n",
    "    adduserstats( objtable, user1 )\n",
    "    adduserstats( objtable, user2 )\n",
    "    goodgood = ( objtable[f\"{user1}_good\"] & objtable[f\"{user2}_good\"] ).sum()\n",
    "    goodbad =  ( objtable[f\"{user1}_good\"] & objtable[f\"{user2}_bad\"] ).sum()\n",
    "    badgood =  ( objtable[f\"{user1}_bad\"] & objtable[f\"{user2}_good\"] ).sum()\n",
    "    badbad =   ( objtable[f\"{user1}_bad\"] & objtable[f\"{user2}_bad\"] ).sum()\n",
    "    \n",
    "    print( f'{user1:>8s} |   good   |    bad   |' )\n",
    "    print( f'{user2:<8s} |          |          |' )\n",
    "    print( f'---------------------------------' )\n",
    "    print( f'good     |   {goodgood:4d}   |   {badgood:4d}   |' )\n",
    "    print( f'---------------------------------' )\n",
    "    print( f'bad      |   {goodbad:4d}   |   {badbad:4d}   |' )\n",
    "    print( f'---------------------------------' )\n",
    "\n",
    "# Compare user to majority\n",
    "def uservsmajority( objtable, user, minrates=2, mindiff=2 ):\n",
    "    adduserstats( objtable, user )\n",
    "    goodtable = objtable[ ( objtable[\"ngood\"]-objtable[\"nbad\"] >= mindiff ) &\n",
    "                          ( objtable[\"ngood\"]+objtable[\"nbad\"] >= minrates ) ]\n",
    "    badtable = objtable[ ( objtable[\"nbad\"]-objtable[\"ngood\"] >= mindiff ) &\n",
    "                         ( objtable[\"nbad\"]+objtable[\"ngood\"] >= minrates ) ]\n",
    "    goodgood = ( goodtable[f\"{user}_good\"] ).sum()\n",
    "    goodbad = ( goodtable[f\"{user}_bad\"] ).sum()\n",
    "    badgood = ( badtable[f\"{user}_good\"] ).sum()\n",
    "    badbad = ( badtable[f\"{user}_bad\"] ).sum()\n",
    "    \n",
    "    print( f'{user} vs. majority (diff≥{mindiff}, n.rates≥{minrates})' )\n",
    "    print( f' majority|   good   |    bad   |' )\n",
    "    print( f'{user:<8s} |          |          |' )\n",
    "    print( f'---------------------------------' )\n",
    "    print( f'good     |   {goodgood:4d}   |   {badgood:4d}   |' )\n",
    "    print( f'---------------------------------' )\n",
    "    print( f'bad      |   {goodbad:4d}   |   {badbad:4d}   |' )\n",
    "    print( f'---------------------------------' )\n"
   ]
  },
  {
   "cell_type": "code",
   "execution_count": 148,
   "id": "05fe4925-f17a-4289-a527-e6a7c70a2a8b",
   "metadata": {},
   "outputs": [
    {
     "name": "stderr",
     "output_type": "stream",
     "text": [
      "Adding isgood/isbad for ruby...\n",
      "...done adding isgood/isbad for ruby.\n"
     ]
    },
    {
     "name": "stdout",
     "output_type": "stream",
     "text": [
      "Ratings for objects that ruby rated good:\n",
      "ngood  nbad\n",
      "1      0        449\n",
      "       1        531\n",
      "       2        377\n",
      "       3        118\n",
      "       4         20\n",
      "       5          2\n",
      "2      0       1006\n",
      "       1        560\n",
      "       2        195\n",
      "       3         19\n",
      "3      0        782\n",
      "       1        210\n",
      "       2         22\n",
      "       3          1\n",
      "4      0        267\n",
      "       1         38\n",
      "       2          1\n",
      "5      0         43\n",
      "       1          2\n",
      "Name: username, dtype: int64\n",
      "Ratings for objects that ruby rated bad:\n",
      "ngood  nbad\n",
      "0      1        4082\n",
      "       2       10718\n",
      "       3       10947\n",
      "       4        4680\n",
      "       5         650\n",
      "       6          35\n",
      "1      1        1080\n",
      "       2        1449\n",
      "       3         601\n",
      "       4          84\n",
      "       5           5\n",
      "2      1         573\n",
      "       2         325\n",
      "       3          59\n",
      "       4           1\n",
      "3      1         125\n",
      "       2          35\n",
      "       3           4\n",
      "4      1          15\n",
      "       2           2\n",
      "5      1           1\n",
      "Name: username, dtype: int64\n"
     ]
    }
   ],
   "source": [
    "userstats( objtable, \"ruby\" )"
   ]
  },
  {
   "cell_type": "code",
   "execution_count": 149,
   "id": "beba1991-a02b-46dd-a4d1-a761457736df",
   "metadata": {},
   "outputs": [
    {
     "name": "stderr",
     "output_type": "stream",
     "text": [
      "Adding isgood/isbad for rknop...\n",
      "...done adding isgood/isbad for rknop.\n",
      "Adding isgood/isbad for autumn...\n",
      "...done adding isgood/isbad for autumn.\n"
     ]
    },
    {
     "name": "stdout",
     "output_type": "stream",
     "text": [
      "   rknop |   good   |    bad   |\n",
      "autumn   |          |          |\n",
      "---------------------------------\n",
      "good     |   1772   |    880   |\n",
      "---------------------------------\n",
      "bad      |   1076   |   11477   |\n",
      "---------------------------------\n"
     ]
    }
   ],
   "source": [
    "compareusers( objtable, \"rknop\", \"autumn\" )"
   ]
  },
  {
   "cell_type": "code",
   "execution_count": 171,
   "id": "7959e1b8-0d2d-4ccb-ba12-e4bb4b03ea9e",
   "metadata": {},
   "outputs": [
    {
     "name": "stdout",
     "output_type": "stream",
     "text": [
      "rknop vs. majority (diff≥2, n.rates≥3)\n",
      " majority|   good   |    bad   |\n",
      "rknop    |          |          |\n",
      "---------------------------------\n",
      "good     |   1275   |    336   |\n",
      "---------------------------------\n",
      "bad      |     37   |   14106   |\n",
      "---------------------------------\n"
     ]
    }
   ],
   "source": [
    "uservsmajority( objtable, \"rknop\", minrates=3, mindiff=2 )"
   ]
  },
  {
   "cell_type": "code",
   "execution_count": 172,
   "id": "e141729c-7585-46ab-abb4-964235022f6a",
   "metadata": {},
   "outputs": [],
   "source": [
    "def getgoodbadcounts( objtable, mode=\"unanimous\", user=None, minrates=2, mindiff=2 ):\n",
    "    if mode == \"user\":\n",
    "        if user is None:\n",
    "            raise ValueError( \"Must specify user for mode user\" )\n",
    "        adduserstats( objtable, user )\n",
    "        bads = objtable[ objtable[f\"{user}_bad\"] ]\n",
    "        goods = objtable[ objtable[f\"{user}_good\"] ]\n",
    "        title = f\"{user} rankings\"\n",
    "    elif mode == \"unanimous\":\n",
    "        bads = objtable[ ( objtable[\"ngood\"] == 0 ) & ( objtable[\"nbad\"] >= minrates ) ]\n",
    "        goods = objtable[ ( objtable[\"ngood\"] >= minrates ) & ( objtable[\"nbad\"] == 0 ) ]\n",
    "        title = f\"Unanimous vetting with at least {minrates} rankings\"\n",
    "    elif mode ==\"majority\":\n",
    "        bads = objtable[ ( objtable[\"nbad\"]-objtable[\"ngood\"] >= mindiff ) &\n",
    "                         ( objtable[\"nbad\"]+objtable[\"ngood\"] >= minrates ) ]\n",
    "        goods = objtable[ ( objtable[\"ngood\"]-objtable[\"nbad\"] >= mindiff ) &\n",
    "                          ( objtable[\"ngood\"]+ objtable[\"nbad\"] >= minrates ) ]\n",
    "        title = f\"Majority vetting w/ ≥{minrates} ratings and difference ≥ {mindiff}\"\n",
    "    else:\n",
    "        raise ValueError( f\"Unknown mode {mode}\" )\n",
    "    goodrb = goods[\"rb\"].values\n",
    "    badrb = bads[\"rb\"].values\n",
    "    return goodrb, badrb, title\n",
    "    \n",
    "# Make a histogram of rb scores\n",
    "def plot_histrb( goodrb, badrb, title, rbcut=None, ylog=True, ylinmax=5000 ):\n",
    "    # Have to do the range to 1.1 because numpy.hist doesn't count the right edge,\n",
    "    #  and we definitely want to include rb=1.0\n",
    "    bins = numpy.arange( 0., 1.2, 0.1 )\n",
    "    # Hack so that things with 1.0 will be plotted in the top bin\n",
    "    goodrb[ goodrb >= 1.0 ] = 0.999999\n",
    "    badrb[ badrb >= 1.0 ] = 0.999999\n",
    "    goodhist, junk = numpy.histogram( goodrb, bins )\n",
    "    badhist, junk = numpy.histogram( badrb, bins )\n",
    "    fig = pyplot.figure( figsize=(10,6), tight_layout=True )\n",
    "    ax = fig.add_subplot( 1, 1, 1 )\n",
    "    if ylog:\n",
    "        ax.set_yscale(\"log\")\n",
    "    else:\n",
    "        ax.set_ylim(0, ylinmax)\n",
    "    ax.set_title( title, fontsize=18 )\n",
    "    ax.set_xlabel( 'rb', fontsize=18 )\n",
    "    ax.set_ylabel( 'N', fontsize=18 )\n",
    "    ax.tick_params( axis='both', labelsize=16 )\n",
    "    ax.step( bins[:-1], goodhist, color='b', where=\"post\" )\n",
    "    ax.step( bins[:-1], badhist, color='r', where=\"post\" )\n",
    "    if rbcut is not None:\n",
    "        ax.axvline( rbcut, linestyle=\"--\", color=\"green\" )\n",
    "    fig.show()\n",
    "    return fig\n",
    "\n",
    "def plot_rbstats( goodrb, badrb, title, rbcut=None ):\n",
    "    rb = numpy.arange(0, 1, 0.05)\n",
    "    tpr = numpy.zeros_like( rb )\n",
    "    fpr = numpy.zeros_like( rb )\n",
    "    mdr = numpy.zeros_like( rb )\n",
    "    fracpassgood = numpy.zeros_like( rb )\n",
    "    for i, rbval in enumerate( rb ):\n",
    "        fp = ( badrb >= rbval ).sum()\n",
    "        tp = ( goodrb >= rbval ).sum()\n",
    "        fn = ( goodrb < rbval ).sum()\n",
    "        tn = ( badrb < rbval ).sum()\n",
    "        # tpr = fraction good things that got classified as good\n",
    "        tpr[i] = tp / ( tp + fn )\n",
    "        # fpr = fraction bad things that got classified as good\n",
    "        fpr[i] = fp / ( fp + tn )\n",
    "        # mdr = fraction of good things that got classified as bad\n",
    "        mdr[i] = fn / ( tp + fn )\n",
    "        # fracpassgood = fraction of things classified as good that are really good\n",
    "        fracpassgood[i] = tp / ( tp + fp )\n",
    "        \n",
    "    if rbcut is None:\n",
    "        rbcut = rbtype['rbcut']\n",
    "    fp = ( badrb >= rbcut ).sum()\n",
    "    tp = ( goodrb >= rbcut ).sum()\n",
    "    fn = ( goodrb < rbcut ).sum()\n",
    "    tn = ( badrb < rbcut ).sum()\n",
    "    tprcut = tp / ( tp + fn )\n",
    "    fprcut = fp / ( fp + tn )\n",
    "    mdrcut = fn / ( tp + fn )\n",
    "    fracpassgoodcut = tp / ( tp + fp )\n",
    "        \n",
    "    fig = pyplot.figure( figsize=(12, 4), tight_layout=True )\n",
    "    zerodist = numpy.sqrt( fpr**2 + mdr**2 )\n",
    "    wmin = numpy.where( zerodist == zerodist.min() )[0]\n",
    "    fprmax = min( 3 * fpr[wmin], 1. )\n",
    "    mdrmax = min( 3 * mdr[wmin], 1. )\n",
    "    ax = fig.add_subplot( 1, 3, 1 )\n",
    "    ax.set_xlabel( 'Missed Detection Rate (MDR)' )\n",
    "    ax.set_ylabel( 'False Positive Rate (FPR)' )\n",
    "    ax.set_xlim( 0, mdrmax )\n",
    "    ax.set_ylim( 0, fprmax )\n",
    "    ax.xaxis.set_minor_locator( matplotlib.ticker.AutoMinorLocator() )\n",
    "    ax.yaxis.set_minor_locator( matplotlib.ticker.AutoMinorLocator() )\n",
    "    ax.grid( which='major', color='#999999' )\n",
    "    ax.grid( which='minor', color='#cccccc' )\n",
    "    ax.plot( mdr, fpr, color='blue' )\n",
    "    ax.plot( mdrcut, fprcut, linestyle=\"\", color='red', marker='o', markersize=6 ) \n",
    "    \n",
    "    ax = fig.add_subplot( 1, 3, 2 )\n",
    "    ax.set_xlabel( 'rb ≥ this to pass' )\n",
    "    ax.set_ylabel( 'FPR/MDR' )\n",
    "    ax.plot( rb, fpr, color='red', label=\"FPR\" )\n",
    "    ax.plot( rb, mdr, color='orange', label=\"MDR\" )\n",
    "    ax.axvline( rbcut, linestyle=\"--\", color=\"green\" )\n",
    "    ax.legend()\n",
    "    \n",
    "    ax = fig.add_subplot( 1, 3, 3 )\n",
    "    ax.set_xlabel( 'Missed Detection Rate (MDR)' )\n",
    "    ax.set_ylabel( 'Stream Cleanliness (tp/(tp+fp))' )\n",
    "    ax.xaxis.set_minor_locator( matplotlib.ticker.AutoMinorLocator() )\n",
    "    ax.yaxis.set_minor_locator( matplotlib.ticker.AutoMinorLocator() )\n",
    "    ax.grid( which='major', color='#999999' )\n",
    "    ax.grid( which='minor', color='#cccccc' )\n",
    "    # ax.set_xlim( 0, 0.6 )\n",
    "    # ax.set_ylim( 0.4, 1 )\n",
    "    ax.plot( mdr, fracpassgood, color='blue' )\n",
    "    subset = numpy.arange( 2, len(rb), 2 )\n",
    "    ax.plot( mdr[subset], fracpassgood[subset], linestyle=\"\", marker='o', markersize=3, color='blue' )\n",
    "    for i in subset:\n",
    "        ax.annotate( f'{rb[i]:.2f}', ( mdr[i], fracpassgood[i] ),\n",
    "                     xytext=(4, -5), textcoords='offset points',\n",
    "                     fontsize=10 )\n",
    "    ax.plot( mdrcut, fracpassgoodcut, color='red', linestyle=\"\", marker='o', markersize=6 )\n",
    "    fig.show()\n",
    "    return fig\n",
    " \n",
    "def histrb( objtable, rbcut=None, ylog=True, ylinmax=5000, *args, **kwargs ):\n",
    "    goodrb, badrb, title = getgoodbadcounts( objtable, *args, **kwargs )\n",
    "    return plot_histrb( goodrb, badrb, title, rbcut=rbcut, ylog=ylog, ylinmax=ylinmax )\n",
    "\n",
    "def rbstats( objtable, rbcut=None, *args, **kwargs ):\n",
    "    goodrb, badrb, title = getgoodbadcounts( objtable, *args, **kwargs )\n",
    "    return plot_rbstats( goodrb, badrb, title, rbcut=rbcut )"
   ]
  },
  {
   "cell_type": "code",
   "execution_count": 174,
   "id": "c49c1621-0327-4bf8-9b2d-3c75359c6c28",
   "metadata": {},
   "outputs": [
    {
     "data": {
      "image/png": "[encoded data removed]",
      "text/plain": [
       "<Figure size 720x432 with 1 Axes>"
      ]
     },
     "metadata": {
      "needs_background": "light"
     },
     "output_type": "display_data"
    },
    {
     "data": {
      "image/png": "[encoded data removed]",
      "text/plain": [
       "<Figure size 864x288 with 3 Axes>"
      ]
     },
     "metadata": {
      "needs_background": "light"
     },
     "output_type": "display_data"
    }
   ],
   "source": [
    "mode = \"majority\"    # unanimous, majority, or user\n",
    "minrates = 3          # Minimum number of ratings to be included in majority or unanimous\n",
    "mindiff = 2           # Minimum difference (ngood-bad or nbad-ngood) to be included in majority\n",
    "user = \"rknop\"        # user for user\n",
    "fig = histrb( objtable, mode=mode, user=user, minrates=minrates, mindiff=mindiff, \n",
    "              ylog=False, ylinmax=1500, rbcut=rbtype['rbcut'] )\n",
    "fig.savefig( \"vettingvsrb.svg\" )\n",
    "fig2 = rbstats( objtable, mode=mode, user=user, minrates=minrates, mindiff=mindiff, rbcut=None )"
   ]
  },
  {
   "cell_type": "code",
   "execution_count": null,
   "id": "fa77d978-b2e1-4378-a924-13eefbfb2ea5",
   "metadata": {},
   "outputs": [],
   "source": []
  }
 ],
 "metadata": {
  "kernelspec": {
   "display_name": "Python 3",
   "language": "python",
   "name": "python3"
  },
  "language_info": {
   "codemirror_mode": {
    "name": "ipython",
    "version": 3
   },
   "file_extension": ".py",
   "mimetype": "text/x-python",
   "name": "python",
   "nbconvert_exporter": "python",
   "pygments_lexer": "ipython3",
   "version": "3.8.8"
  }
 },
 "nbformat": 4,
 "nbformat_minor": 5
}
