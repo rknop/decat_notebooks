{
 "cells": [
  {
   "cell_type": "code",
   "execution_count": null,
   "id": "a0f3c591-fa6c-4b48-a319-59f815bf56e1",
   "metadata": {},
   "outputs": [],
   "source": [
    "import psycopg2\n",
    "import psycopg2.extras\n",
    "import getpass\n",
    "from IPython.display import display\n",
    "import ipywidgets"
   ]
  },
  {
   "cell_type": "code",
   "execution_count": null,
   "id": "a2e08b65-6797-45f9-b039-9f8e50bf4367",
   "metadata": {
    "tags": []
   },
   "outputs": [],
   "source": [
    "def hmstodeg( h, m, s):\n",
    "    return 15 * ( h + m/60. + s/3600.)\n",
    "\n",
    "def dmstodeg( d, m, s ):\n",
    "    return d + m/60. + s/3600."
   ]
  },
  {
   "cell_type": "code",
   "execution_count": null,
   "id": "86a31396-93f8-44f8-a86b-1dc4fab990fc",
   "metadata": {
    "tags": []
   },
   "outputs": [],
   "source": [
    "dbuser = input(\"DB User: \")\n",
    "dbpasswd = getpass.getpass(\"DB Password: \")\n",
    "db = psycopg2.connect(f\"dbname='decat' user='{dbuser}' password='{dbpasswd}' host='decatdb.lbl.gov'\")"
   ]
  },
  {
   "cell_type": "code",
   "execution_count": null,
   "id": "82b11fe6-920b-4ffd-8d81-2ff3ac7b647b",
   "metadata": {},
   "outputs": [],
   "source": [
    "# Find all candidates within 5\" of 10:02:15.36, +03:12:37.1\n",
    "ra = hmstodeg( 10, 2, 15.36 )\n",
    "dec = dmstodeg( 3,12, 37.1 )\n",
    "cursor = db.cursor( cursor_factory = psycopg2.extras.DictCursor )\n",
    "query = ( 'SELECT c.id,c.ra,c.dec,COUNT(o.id) as numobj FROM candidates c '\n",
    "          'LEFT JOIN objects o ON c.id=o.candidate_id '\n",
    "          'WHERE q3c_radial_query(c.ra,c.dec,%s,%s,%s) ' \n",
    "          'GROUP BY c.id,c.ra,c.dec' )\n",
    "cursor.execute( query, ( ra, dec, 5./3600.) )\n",
    "print( f'{\"Candidate\":10s}  {\"    RA\":10s}  {\"    dec\":10s}  Num. objects' )\n",
    "print( '================================================' )\n",
    "for row in cursor:\n",
    "    print( f'{row[\"id\"]:10s}  {row[\"ra\"]:10.5f}  {row[\"dec\"]:10.5f}  {row[\"numobj\"]}' )\n",
    "cursor.close()\n",
    "    "
   ]
  },
  {
   "cell_type": "code",
   "execution_count": null,
   "id": "7cc7cdc8-0b8f-4acc-9437-b834bf280c69",
   "metadata": {},
   "outputs": [],
   "source": [
    "# Based on the results above, I want to look at candidate DC21jay\n",
    "cursor = db.cursor( cursor_factory = psycopg2.extras.DictCursor )\n",
    "query = ( 'SELECT e.mjd,e.filename,e.filter,c.sci_jpeg,c.ref_jpeg,c.diff_jpeg FROM cutouts c '\n",
    "          'INNER JOIN objects o ON c.object_id=o.id '\n",
    "          'INNER JOIN candidates cand ON o.candidate_id=cand.id '\n",
    "          'INNER JOIN subtractions s ON o.subtraction_id=s.id '\n",
    "          'INNER JOIN exposures e ON s.exposure_id=e.id '\n",
    "          'WHERE cand.id=%s '\n",
    "          'ORDER BY e.mjd ')\n",
    "cursor.execute( query, ( \"DC21jay\", ) )\n",
    "for row in cursor:\n",
    "    label = ipywidgets.HTML( f'<b>{row[\"filename\"]}</b><br><b>Filter:</b> {row[\"filter\"]}' )\n",
    "    newimg = ipywidgets.Image( value=bytes(row[\"sci_jpeg\"]), width=102, height=102, format='jpeg' )\n",
    "    refimg = ipywidgets.Image( value=bytes(row[\"ref_jpeg\"]), width=102, height=102, format='jpeg' )\n",
    "    subimg = ipywidgets.Image( value=bytes(row[\"diff_jpeg\"]), width=102, height=102, format='jpeg' )\n",
    "    box = ipywidgets.HBox( [ newimg, refimg, subimg, label ] )\n",
    "    display( box )\n",
    "cursor.close()\n",
    "print( \"Did\" )"
   ]
  }
 ],
 "metadata": {
  "kernelspec": {
   "display_name": "Python 3",
   "language": "python",
   "name": "python3"
  },
  "language_info": {
   "codemirror_mode": {
    "name": "ipython",
    "version": 3
   },
   "file_extension": ".py",
   "mimetype": "text/x-python",
   "name": "python",
   "nbconvert_exporter": "python",
   "pygments_lexer": "ipython3",
   "version": "3.7.4"
  }
 },
 "nbformat": 4,
 "nbformat_minor": 5
}
